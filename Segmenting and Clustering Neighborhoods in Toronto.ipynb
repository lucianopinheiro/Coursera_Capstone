{
 "metadata": {
  "language_info": {
   "codemirror_mode": {
    "name": "ipython",
    "version": 3
   },
   "file_extension": ".py",
   "mimetype": "text/x-python",
   "name": "python",
   "nbconvert_exporter": "python",
   "pygments_lexer": "ipython3",
   "version": "3.9.2"
  },
  "orig_nbformat": 2,
  "kernelspec": {
   "name": "python392jvsc74a57bd0e7370f93d1d0cde622a1f8e1c04877d8463912d04d973331ad4851f04de6915a",
   "display_name": "Python 3.9.2 64-bit"
  },
  "metadata": {
   "interpreter": {
    "hash": "e7370f93d1d0cde622a1f8e1c04877d8463912d04d973331ad4851f04de6915a"
   }
  }
 },
 "nbformat": 4,
 "nbformat_minor": 2,
 "cells": [
  {
   "cell_type": "code",
   "execution_count": 12,
   "metadata": {},
   "outputs": [],
   "source": [
    "from bs4 import BeautifulSoup\n",
    "import pandas as pd\n",
    "import requests"
   ]
  },
  {
   "source": [
    "## request the page"
   ],
   "cell_type": "markdown",
   "metadata": {}
  },
  {
   "cell_type": "code",
   "execution_count": 13,
   "metadata": {
    "tags": []
   },
   "outputs": [],
   "source": [
    "url = 'https://en.wikipedia.org/wiki/List_of_postal_codes_of_Canada:_M'\n",
    "request = requests.Session()\n",
    "html = request.get(url)\n",
    "\n",
    "soup = BeautifulSoup(html.content)\n",
    "\n",
    "# the first table is the one!\n",
    "table = soup.find_all('table')[0]"
   ]
  },
  {
   "source": [
    "## check all cells and insert into a list"
   ],
   "cell_type": "markdown",
   "metadata": {}
  },
  {
   "cell_type": "code",
   "execution_count": 14,
   "metadata": {},
   "outputs": [],
   "source": [
    "cells = []\n",
    "for td in table.find_all('td'):\n",
    "    cell = {}\n",
    "    if td.span.text != 'Not assigned':\n",
    "        cell['PostalCode'] = td.p.text[:3]\n",
    "        cell['Borough'] = (td.span.text).split('(')[0]\n",
    "        cell['Neighborhood'] = (((((td.span.text).split('(')[1]).strip(')')).replace(' /',',')).replace(')',' ')).strip(' ')\n",
    "        cells.append(cell)\n"
   ]
  },
  {
   "source": [
    "## Add to dataframe"
   ],
   "cell_type": "markdown",
   "metadata": {}
  },
  {
   "cell_type": "code",
   "execution_count": 15,
   "metadata": {},
   "outputs": [
    {
     "output_type": "execute_result",
     "data": {
      "text/plain": [
       "  PostalCode           Borough                      Neighborhood\n",
       "0        M3A        North York                         Parkwoods\n",
       "1        M4A        North York                  Victoria Village\n",
       "2        M5A  Downtown Toronto         Regent Park, Harbourfront\n",
       "3        M6A        North York  Lawrence Manor, Lawrence Heights\n",
       "4        M7A      Queen's Park     Ontario Provincial Government"
      ],
      "text/html": "<div>\n<style scoped>\n    .dataframe tbody tr th:only-of-type {\n        vertical-align: middle;\n    }\n\n    .dataframe tbody tr th {\n        vertical-align: top;\n    }\n\n    .dataframe thead th {\n        text-align: right;\n    }\n</style>\n<table border=\"1\" class=\"dataframe\">\n  <thead>\n    <tr style=\"text-align: right;\">\n      <th></th>\n      <th>PostalCode</th>\n      <th>Borough</th>\n      <th>Neighborhood</th>\n    </tr>\n  </thead>\n  <tbody>\n    <tr>\n      <th>0</th>\n      <td>M3A</td>\n      <td>North York</td>\n      <td>Parkwoods</td>\n    </tr>\n    <tr>\n      <th>1</th>\n      <td>M4A</td>\n      <td>North York</td>\n      <td>Victoria Village</td>\n    </tr>\n    <tr>\n      <th>2</th>\n      <td>M5A</td>\n      <td>Downtown Toronto</td>\n      <td>Regent Park, Harbourfront</td>\n    </tr>\n    <tr>\n      <th>3</th>\n      <td>M6A</td>\n      <td>North York</td>\n      <td>Lawrence Manor, Lawrence Heights</td>\n    </tr>\n    <tr>\n      <th>4</th>\n      <td>M7A</td>\n      <td>Queen's Park</td>\n      <td>Ontario Provincial Government</td>\n    </tr>\n  </tbody>\n</table>\n</div>"
     },
     "metadata": {},
     "execution_count": 15
    }
   ],
   "source": [
    "\n",
    "df=pd.DataFrame(cells)\n",
    "df.head()"
   ]
  },
  {
   "source": [
    "## Use geocoder to get coordinates"
   ],
   "cell_type": "markdown",
   "metadata": {}
  },
  {
   "cell_type": "code",
   "execution_count": 22,
   "metadata": {
    "tags": []
   },
   "outputs": [
    {
     "output_type": "stream",
     "name": "stdout",
     "text": [
      "Coordinates for M3A\n",
      "M3A.M3A.M3A.M3A.M3A.M3A.M3A.M3A.M3A.M3A.M3A.M3A.M3A.M3A.M3A.M3A.M3A.M3A.M3A.M3A.M3A.M3A.M3A.M3A.M3A.M3A.M3A.M3A.M3A.M3A.M3A.M3A.M3A.M3A.M3A.M3A.M3A.M3A.M3A.M3A.M3A.M3A.M3A.M3A.M3A.M3A.M3A.M3A.M3A.M3A.M3A.M3A.M3A.M3A.M3A.M3A.M3A.M3A.M3A.M3A.M3A.M3A.M3A.M3A.M3A.M3A.M3A.M3A.M3A.M3A.M3A.M3A.M3A.M3A.M3A.M3A.M3A.M3A.M3A.M3A.M3A.M3A.M3A.M3A.M3A.M3A.M3A.M3A.M3A.M3A.M3A.M3A.M3A.M3A.M3A.M3A.M3A.M3A.M3A.M3A.M3A.M3A.M3A.M3A.M3A.M3A.M3A.M3A.M3A.M3A.M3A.M3A.M3A.M3A.M3A.M3A.M3A.M3A.M3A.M3A.M3A.M3A.M3A.M3A.M3A.M3A.M3A.M3A.M3A.M3A.M3A.M3A.M3A.M3A.M3A.M3A.M3A.M3A.M3A.M3A.M3A.M3A.M3A.M3A.M3A.M3A.M3A.M3A.M3A.M3A.M3A.M3A.M3A.M3A.M3A.M3A.M3A.M3A.M3A.M3A.M3A.M3A.M3A.M3A.M3A.M3A.M3A.M3A.M3A.M3A.M3A.M3A.M3A.M3A.M3A.M3A.M3A.M3A.M3A.M3A.M3A.M3A.M3A.M3A.M3A.M3A.M3A.M3A.M3A.M3A.M3A.M3A.M3A.M3A.M3A.M3A.M3A.M3A.M3A.M3A.M3A.M3A.M3A.M3A.M3A.M3A.M3A.M3A.M3A.M3A.M3A.M3A.M3A.M3A.M3A.M3A.M3A.M3A.M3A.M3A.M3A.M3A.M3A.M3A.M3A.M3A.M3A.M3A.M3A.M3A.M3A.M3A.M3A.M3A.M3A.M3A.M3A.M3A.M3A.M3A.M3A.M3A.M3A.M3A.M3A.M3A.M3A.M3A.M3A.M3A.M3A.M3A.M3A.M3A.M3A.M3A.M3A.M3A.M3A.M3A.M3A.M3A.M3A.M3A.M3A.M3A.M3A.M3A.M3A.M3A.M3A.M3A.M3A.M3A.M3A.M3A.M3A.M3A.M3A.M3A.M3A.M3A.M3A.M3A.M3A.M3A.M3A.M3A.M3A.M3A.M3A.M3A.M3A.M3A.M3A.M3A.M3A.M3A.M3A.M3A.M3A.M3A.M3A.M3A.M3A.M3A.M3A.M3A.M3A.M3A.M3A.M3A.M3A.M3A.M3A.M3A.M3A.M3A.M3A.M3A.M3A.M3A.M3A.M3A.M3A.M3A.M3A.M3A.M3A.M3A.M3A.M3A.M3A.M3A.M3A.M3A.M3A.M3A.M3A.M3A.M3A.M3A.M3A.M3A.M3A.M3A.M3A.M3A.M3A.M3A.M3A.M3A.M3A.M3A.M3A.M3A.M3A.M3A.M3A.M3A.M3A.M3A.M3A.M3A.M3A.M3A.M3A.M3A.M3A.M3A.M3A.M3A.M3A.M3A.M3A.M3A.M3A.M3A.M3A.M3A.M3A.M3A.M3A.M3A.M3A.M3A.M3A.M3A.M3A.M3A.M3A.M3A.M3A.M3A.M3A.M3A.M3A.M3A.M3A.M3A.M3A.M3A.M3A.M3A.M3A.M3A.M3A.M3A.M3A.M3A.M3A.M3A.M3A.M3A.M3A.M3A.M3A.M3A.M3A.M3A.M3A.M3A.M3A.M3A.M3A.M3A.M3A.M3A.M3A.M3A.M3A.M3A.M3A.M3A.M3A.M3A.M3A.M3A.M3A.M3A.M3A.M3A.M3A.M3A.M3A.M3A.M3A.M3A.M3A.M3A.M3A.M3A.M3A.M3A.M3A.M3A.M3A.M3A.M3A.M3A.M3A.M3A.M3A.M3A.M3A.M3A.M3A.M3A.M3A.M3A.M3A.M3A.M3A.M3A.M3A.M3A.M3A.M3A.M3A.M3A.M3A.M3A.M3A.M3A.M3A.M3A.M3A.M3A.M3A.M3A.M3A.M3A.M3A.M3A.M3A.M3A.M3A.M3A.M3A.M3A.M3A.M3A.M3A.M3A.M3A.M3A.M3A.M3A.M3A.M3A.M3A.M3A.M3A.M3A.M3A.M3A.M3A.M3A.M3A.M3A.M3A.M3A.M3A.M3A.M3A.M3A.M3A.M3A.M3A.M3A.M3A.M3A.M3A.M3A.M3A.M3A.M3A.M3A.M3A.M3A.M3A.M3A.M3A.M3A.M3A.M3A.M3A.M3A.M3A.M3A.M3A.M3A.M3A.M3A.M3A.M3A.M3A.M3A.M3A.M3A.M3A.M3A.M3A.M3A.M3A.M3A.M3A.M3A.M3A.M3A.M3A.M3A.M3A.M3A.M3A.M3A.M3A.M3A.M3A."
     ]
    }
   ],
   "source": [
    "import geocoder # import geocoder\n",
    "\n",
    "# initialize your variable to None\n",
    "lat_lng_coords = None\n",
    "lat = []\n",
    "lon = []\n",
    "\n",
    "for i, postal_code in enumerate(df['PostalCode']):\n",
    "    print('Coordinates for {}'.format(postal_code, end=''))\n",
    "\n",
    "    # loop until you get the coordinates\n",
    "    while(lat_lng_coords is None):\n",
    "        g = geocoder.google('{}, Toronto, Ontario'.format(postal_code))\n",
    "        lat_lng_coords = g.latlng\n",
    "        print('{}{}'.format(i,lat_lng_coords), end='.')\n",
    "\n",
    "        if lat_lng_coords:\n",
    "            print('')\n",
    "            lat.append(lat_lng_coords[0])\n",
    "            lon.append(lat_lng_coords[1])\n",
    "\n",
    "df['latitude'] = lat\n",
    "df['longitude'] = lon"
   ]
  },
  {
   "cell_type": "code",
   "execution_count": 16,
   "metadata": {},
   "outputs": [
    {
     "output_type": "execute_result",
     "data": {
      "text/plain": [
       "  PostalCode           Borough                      Neighborhood\n",
       "0        M3A        North York                         Parkwoods\n",
       "1        M4A        North York                  Victoria Village\n",
       "2        M5A  Downtown Toronto         Regent Park, Harbourfront\n",
       "3        M6A        North York  Lawrence Manor, Lawrence Heights\n",
       "4        M7A      Queen's Park     Ontario Provincial Government"
      ],
      "text/html": "<div>\n<style scoped>\n    .dataframe tbody tr th:only-of-type {\n        vertical-align: middle;\n    }\n\n    .dataframe tbody tr th {\n        vertical-align: top;\n    }\n\n    .dataframe thead th {\n        text-align: right;\n    }\n</style>\n<table border=\"1\" class=\"dataframe\">\n  <thead>\n    <tr style=\"text-align: right;\">\n      <th></th>\n      <th>PostalCode</th>\n      <th>Borough</th>\n      <th>Neighborhood</th>\n    </tr>\n  </thead>\n  <tbody>\n    <tr>\n      <th>0</th>\n      <td>M3A</td>\n      <td>North York</td>\n      <td>Parkwoods</td>\n    </tr>\n    <tr>\n      <th>1</th>\n      <td>M4A</td>\n      <td>North York</td>\n      <td>Victoria Village</td>\n    </tr>\n    <tr>\n      <th>2</th>\n      <td>M5A</td>\n      <td>Downtown Toronto</td>\n      <td>Regent Park, Harbourfront</td>\n    </tr>\n    <tr>\n      <th>3</th>\n      <td>M6A</td>\n      <td>North York</td>\n      <td>Lawrence Manor, Lawrence Heights</td>\n    </tr>\n    <tr>\n      <th>4</th>\n      <td>M7A</td>\n      <td>Queen's Park</td>\n      <td>Ontario Provincial Government</td>\n    </tr>\n  </tbody>\n</table>\n</div>"
     },
     "metadata": {},
     "execution_count": 16
    }
   ],
   "source": [
    "df.head()"
   ]
  },
  {
   "cell_type": "code",
   "execution_count": 9,
   "metadata": {},
   "outputs": [
    {
     "output_type": "stream",
     "name": "stdout",
     "text": [
      "{\n   \"error_message\" : \"You must use an API key to authenticate each request to Google Maps Platform APIs. For additional information, please refer to http://g.co/dev/maps-no-account\",\n   \"results\" : [],\n   \"status\" : \"REQUEST_DENIED\"\n}\n\n"
     ]
    }
   ],
   "source": [
    "import requests\n",
    "url = 'https://maps.googleapis.com/maps/api/geocode/json'\n",
    "params = {'sensor': 'false', 'address': 'Mountain View, CA'}\n",
    "r = requests.get(url, params=params)\n",
    "print(r.text)\n",
    "#location = results[0]['geometry']['location']\n",
    "#location['lat'], location['lng']"
   ]
  },
  {
   "cell_type": "code",
   "execution_count": 17,
   "metadata": {},
   "outputs": [
    {
     "output_type": "execute_result",
     "data": {
      "text/plain": [
       "  PostalCode   Latitude  Longitude\n",
       "0        M1B  43.806686 -79.194353\n",
       "1        M1C  43.784535 -79.160497\n",
       "2        M1E  43.763573 -79.188711\n",
       "3        M1G  43.770992 -79.216917\n",
       "4        M1H  43.773136 -79.239476"
      ],
      "text/html": "<div>\n<style scoped>\n    .dataframe tbody tr th:only-of-type {\n        vertical-align: middle;\n    }\n\n    .dataframe tbody tr th {\n        vertical-align: top;\n    }\n\n    .dataframe thead th {\n        text-align: right;\n    }\n</style>\n<table border=\"1\" class=\"dataframe\">\n  <thead>\n    <tr style=\"text-align: right;\">\n      <th></th>\n      <th>PostalCode</th>\n      <th>Latitude</th>\n      <th>Longitude</th>\n    </tr>\n  </thead>\n  <tbody>\n    <tr>\n      <th>0</th>\n      <td>M1B</td>\n      <td>43.806686</td>\n      <td>-79.194353</td>\n    </tr>\n    <tr>\n      <th>1</th>\n      <td>M1C</td>\n      <td>43.784535</td>\n      <td>-79.160497</td>\n    </tr>\n    <tr>\n      <th>2</th>\n      <td>M1E</td>\n      <td>43.763573</td>\n      <td>-79.188711</td>\n    </tr>\n    <tr>\n      <th>3</th>\n      <td>M1G</td>\n      <td>43.770992</td>\n      <td>-79.216917</td>\n    </tr>\n    <tr>\n      <th>4</th>\n      <td>M1H</td>\n      <td>43.773136</td>\n      <td>-79.239476</td>\n    </tr>\n  </tbody>\n</table>\n</div>"
     },
     "metadata": {},
     "execution_count": 17
    }
   ],
   "source": [
    "import pandas as pd\n",
    "df2 = pd.read_csv('Geospatial_Coordinates.csv')\n",
    "df2.rename(columns = {'Postal Code':'PostalCode'}, inplace = True)\n",
    "df2.head()"
   ]
  },
  {
   "cell_type": "code",
   "execution_count": 18,
   "metadata": {},
   "outputs": [],
   "source": [
    "df3 = pd.merge(df, df2, on = \"PostalCode\", how = \"inner\")"
   ]
  },
  {
   "cell_type": "code",
   "execution_count": 19,
   "metadata": {},
   "outputs": [
    {
     "output_type": "execute_result",
     "data": {
      "text/plain": [
       "  PostalCode           Borough                      Neighborhood   Latitude  \\\n",
       "0        M3A        North York                         Parkwoods  43.753259   \n",
       "1        M4A        North York                  Victoria Village  43.725882   \n",
       "2        M5A  Downtown Toronto         Regent Park, Harbourfront  43.654260   \n",
       "3        M6A        North York  Lawrence Manor, Lawrence Heights  43.718518   \n",
       "4        M7A      Queen's Park     Ontario Provincial Government  43.662301   \n",
       "\n",
       "   Longitude  \n",
       "0 -79.329656  \n",
       "1 -79.315572  \n",
       "2 -79.360636  \n",
       "3 -79.464763  \n",
       "4 -79.389494  "
      ],
      "text/html": "<div>\n<style scoped>\n    .dataframe tbody tr th:only-of-type {\n        vertical-align: middle;\n    }\n\n    .dataframe tbody tr th {\n        vertical-align: top;\n    }\n\n    .dataframe thead th {\n        text-align: right;\n    }\n</style>\n<table border=\"1\" class=\"dataframe\">\n  <thead>\n    <tr style=\"text-align: right;\">\n      <th></th>\n      <th>PostalCode</th>\n      <th>Borough</th>\n      <th>Neighborhood</th>\n      <th>Latitude</th>\n      <th>Longitude</th>\n    </tr>\n  </thead>\n  <tbody>\n    <tr>\n      <th>0</th>\n      <td>M3A</td>\n      <td>North York</td>\n      <td>Parkwoods</td>\n      <td>43.753259</td>\n      <td>-79.329656</td>\n    </tr>\n    <tr>\n      <th>1</th>\n      <td>M4A</td>\n      <td>North York</td>\n      <td>Victoria Village</td>\n      <td>43.725882</td>\n      <td>-79.315572</td>\n    </tr>\n    <tr>\n      <th>2</th>\n      <td>M5A</td>\n      <td>Downtown Toronto</td>\n      <td>Regent Park, Harbourfront</td>\n      <td>43.654260</td>\n      <td>-79.360636</td>\n    </tr>\n    <tr>\n      <th>3</th>\n      <td>M6A</td>\n      <td>North York</td>\n      <td>Lawrence Manor, Lawrence Heights</td>\n      <td>43.718518</td>\n      <td>-79.464763</td>\n    </tr>\n    <tr>\n      <th>4</th>\n      <td>M7A</td>\n      <td>Queen's Park</td>\n      <td>Ontario Provincial Government</td>\n      <td>43.662301</td>\n      <td>-79.389494</td>\n    </tr>\n  </tbody>\n</table>\n</div>"
     },
     "metadata": {},
     "execution_count": 19
    }
   ],
   "source": [
    "df3.head()"
   ]
  },
  {
   "cell_type": "code",
   "execution_count": 23,
   "metadata": {},
   "outputs": [
    {
     "output_type": "stream",
     "name": "stdout",
     "text": [
      "  PostalCode     Borough Neighborhood\n0        M3A  North York    Parkwoods\n   PostalCode   Latitude  Longitude\n25        M3A  43.753259 -79.329656\n  PostalCode     Borough Neighborhood   Latitude  Longitude\n0        M3A  North York    Parkwoods  43.753259 -79.329656\n"
     ]
    }
   ],
   "source": [
    "print(df[df['PostalCode']=='M3A'])\n",
    "print(df2[df2['PostalCode']=='M3A'])\n",
    "print(df3[df3['PostalCode']=='M3A'])\n"
   ]
  },
  {
   "cell_type": "code",
   "execution_count": null,
   "metadata": {},
   "outputs": [],
   "source": []
  }
 ]
}