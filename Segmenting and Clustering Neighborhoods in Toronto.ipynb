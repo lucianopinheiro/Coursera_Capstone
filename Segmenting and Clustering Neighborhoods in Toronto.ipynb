{
 "metadata": {
  "language_info": {
   "codemirror_mode": {
    "name": "ipython",
    "version": 3
   },
   "file_extension": ".py",
   "mimetype": "text/x-python",
   "name": "python",
   "nbconvert_exporter": "python",
   "pygments_lexer": "ipython3",
   "version": "3.9.2"
  },
  "orig_nbformat": 2,
  "kernelspec": {
   "name": "python392jvsc74a57bd0e7370f93d1d0cde622a1f8e1c04877d8463912d04d973331ad4851f04de6915a",
   "display_name": "Python 3.9.2 64-bit"
  },
  "metadata": {
   "interpreter": {
    "hash": "e7370f93d1d0cde622a1f8e1c04877d8463912d04d973331ad4851f04de6915a"
   }
  }
 },
 "nbformat": 4,
 "nbformat_minor": 2,
 "cells": [
  {
   "cell_type": "code",
   "execution_count": 1,
   "metadata": {},
   "outputs": [],
   "source": [
    "from bs4 import BeautifulSoup\n",
    "import pandas as pd\n",
    "import requests"
   ]
  },
  {
   "source": [
    "## request the page"
   ],
   "cell_type": "markdown",
   "metadata": {}
  },
  {
   "cell_type": "code",
   "execution_count": 2,
   "metadata": {
    "tags": []
   },
   "outputs": [],
   "source": [
    "url = 'https://en.wikipedia.org/wiki/List_of_postal_codes_of_Canada:_M'\n",
    "request = requests.Session()\n",
    "html = request.get(url)\n",
    "\n",
    "soup = BeautifulSoup(html.content)\n",
    "\n",
    "# the first table is the one!\n",
    "table = soup.find_all('table')[0]"
   ]
  },
  {
   "source": [
    "## check all cells and insert into a list"
   ],
   "cell_type": "markdown",
   "metadata": {}
  },
  {
   "cell_type": "code",
   "execution_count": 3,
   "metadata": {},
   "outputs": [],
   "source": [
    "cells = []\n",
    "for td in table.find_all('td'):\n",
    "    cell = {}\n",
    "    if td.span.text != 'Not assigned':\n",
    "        cell['PostalCode'] = td.p.text[:3]\n",
    "        cell['Borough'] = (td.span.text).split('(')[0]\n",
    "        cell['Neighborhood'] = (((((td.span.text).split('(')[1]).strip(')')).replace(' /',',')).replace(')',' ')).strip(' ')\n",
    "        cells.append(cell)\n"
   ]
  },
  {
   "source": [
    "## Add to dataframe"
   ],
   "cell_type": "markdown",
   "metadata": {}
  },
  {
   "cell_type": "code",
   "execution_count": 4,
   "metadata": {},
   "outputs": [
    {
     "output_type": "execute_result",
     "data": {
      "text/plain": [
       "  PostalCode           Borough                      Neighborhood\n",
       "0        M3A        North York                         Parkwoods\n",
       "1        M4A        North York                  Victoria Village\n",
       "2        M5A  Downtown Toronto         Regent Park, Harbourfront\n",
       "3        M6A        North York  Lawrence Manor, Lawrence Heights\n",
       "4        M7A      Queen's Park     Ontario Provincial Government"
      ],
      "text/html": "<div>\n<style scoped>\n    .dataframe tbody tr th:only-of-type {\n        vertical-align: middle;\n    }\n\n    .dataframe tbody tr th {\n        vertical-align: top;\n    }\n\n    .dataframe thead th {\n        text-align: right;\n    }\n</style>\n<table border=\"1\" class=\"dataframe\">\n  <thead>\n    <tr style=\"text-align: right;\">\n      <th></th>\n      <th>PostalCode</th>\n      <th>Borough</th>\n      <th>Neighborhood</th>\n    </tr>\n  </thead>\n  <tbody>\n    <tr>\n      <th>0</th>\n      <td>M3A</td>\n      <td>North York</td>\n      <td>Parkwoods</td>\n    </tr>\n    <tr>\n      <th>1</th>\n      <td>M4A</td>\n      <td>North York</td>\n      <td>Victoria Village</td>\n    </tr>\n    <tr>\n      <th>2</th>\n      <td>M5A</td>\n      <td>Downtown Toronto</td>\n      <td>Regent Park, Harbourfront</td>\n    </tr>\n    <tr>\n      <th>3</th>\n      <td>M6A</td>\n      <td>North York</td>\n      <td>Lawrence Manor, Lawrence Heights</td>\n    </tr>\n    <tr>\n      <th>4</th>\n      <td>M7A</td>\n      <td>Queen's Park</td>\n      <td>Ontario Provincial Government</td>\n    </tr>\n  </tbody>\n</table>\n</div>"
     },
     "metadata": {},
     "execution_count": 4
    }
   ],
   "source": [
    "\n",
    "df=pd.DataFrame(cells)\n",
    "df.head()"
   ]
  },
  {
   "source": [
    "## Use geocoder to get coordinates\n",
    "### (actually, not working)"
   ],
   "cell_type": "markdown",
   "metadata": {}
  },
  {
   "cell_type": "code",
   "execution_count": null,
   "metadata": {
    "tags": []
   },
   "outputs": [],
   "source": [
    "import geocoder # import geocoder\n",
    "\n",
    "# initialize your variable to None\n",
    "lat_lng_coords = None\n",
    "lat = []\n",
    "lon = []\n",
    "\n",
    "for i, postal_code in enumerate(df['PostalCode']):\n",
    "    print('Coordinates for {}'.format(postal_code, end=''))\n",
    "\n",
    "    # loop until you get the coordinates\n",
    "    while(lat_lng_coords is None):\n",
    "        g = geocoder.google('{}, Toronto, Ontario'.format(postal_code))\n",
    "        lat_lng_coords = g.latlng\n",
    "        print('{}{}'.format(i,lat_lng_coords), end='.')\n",
    "\n",
    "        if lat_lng_coords:\n",
    "            print('')\n",
    "            lat.append(lat_lng_coords[0])\n",
    "            lon.append(lat_lng_coords[1])\n",
    "\n",
    "df['latitude'] = lat\n",
    "df['longitude'] = lon"
   ]
  },
  {
   "source": [
    "### As geocoder is not working, we must import the CSV"
   ],
   "cell_type": "markdown",
   "metadata": {}
  },
  {
   "cell_type": "code",
   "execution_count": 5,
   "metadata": {},
   "outputs": [
    {
     "output_type": "stream",
     "name": "stdout",
     "text": [
      "{\n   \"error_message\" : \"You must use an API key to authenticate each request to Google Maps Platform APIs. For additional information, please refer to http://g.co/dev/maps-no-account\",\n   \"results\" : [],\n   \"status\" : \"REQUEST_DENIED\"\n}\n\n"
     ]
    }
   ],
   "source": [
    "import requests\n",
    "url = 'https://maps.googleapis.com/maps/api/geocode/json'\n",
    "params = {'sensor': 'false', 'address': 'Mountain View, CA'}\n",
    "r = requests.get(url, params=params)\n",
    "print(r.text)\n",
    "#location = results[0]['geometry']['location']\n",
    "#location['lat'], location['lng']"
   ]
  },
  {
   "cell_type": "code",
   "execution_count": 6,
   "metadata": {},
   "outputs": [
    {
     "output_type": "execute_result",
     "data": {
      "text/plain": [
       "  PostalCode   Latitude  Longitude\n",
       "0        M1B  43.806686 -79.194353\n",
       "1        M1C  43.784535 -79.160497\n",
       "2        M1E  43.763573 -79.188711\n",
       "3        M1G  43.770992 -79.216917\n",
       "4        M1H  43.773136 -79.239476"
      ],
      "text/html": "<div>\n<style scoped>\n    .dataframe tbody tr th:only-of-type {\n        vertical-align: middle;\n    }\n\n    .dataframe tbody tr th {\n        vertical-align: top;\n    }\n\n    .dataframe thead th {\n        text-align: right;\n    }\n</style>\n<table border=\"1\" class=\"dataframe\">\n  <thead>\n    <tr style=\"text-align: right;\">\n      <th></th>\n      <th>PostalCode</th>\n      <th>Latitude</th>\n      <th>Longitude</th>\n    </tr>\n  </thead>\n  <tbody>\n    <tr>\n      <th>0</th>\n      <td>M1B</td>\n      <td>43.806686</td>\n      <td>-79.194353</td>\n    </tr>\n    <tr>\n      <th>1</th>\n      <td>M1C</td>\n      <td>43.784535</td>\n      <td>-79.160497</td>\n    </tr>\n    <tr>\n      <th>2</th>\n      <td>M1E</td>\n      <td>43.763573</td>\n      <td>-79.188711</td>\n    </tr>\n    <tr>\n      <th>3</th>\n      <td>M1G</td>\n      <td>43.770992</td>\n      <td>-79.216917</td>\n    </tr>\n    <tr>\n      <th>4</th>\n      <td>M1H</td>\n      <td>43.773136</td>\n      <td>-79.239476</td>\n    </tr>\n  </tbody>\n</table>\n</div>"
     },
     "metadata": {},
     "execution_count": 6
    }
   ],
   "source": [
    "import pandas as pd\n",
    "df2 = pd.read_csv('Geospatial_Coordinates.csv')\n",
    "df2.rename(columns = {'Postal Code':'PostalCode'}, inplace = True)\n",
    "df2.head()"
   ]
  },
  {
   "cell_type": "code",
   "execution_count": 7,
   "metadata": {},
   "outputs": [
    {
     "output_type": "execute_result",
     "data": {
      "text/plain": [
       "  PostalCode           Borough                      Neighborhood   Latitude  \\\n",
       "0        M3A        North York                         Parkwoods  43.753259   \n",
       "1        M4A        North York                  Victoria Village  43.725882   \n",
       "2        M5A  Downtown Toronto         Regent Park, Harbourfront  43.654260   \n",
       "3        M6A        North York  Lawrence Manor, Lawrence Heights  43.718518   \n",
       "4        M7A      Queen's Park     Ontario Provincial Government  43.662301   \n",
       "\n",
       "   Longitude  \n",
       "0 -79.329656  \n",
       "1 -79.315572  \n",
       "2 -79.360636  \n",
       "3 -79.464763  \n",
       "4 -79.389494  "
      ],
      "text/html": "<div>\n<style scoped>\n    .dataframe tbody tr th:only-of-type {\n        vertical-align: middle;\n    }\n\n    .dataframe tbody tr th {\n        vertical-align: top;\n    }\n\n    .dataframe thead th {\n        text-align: right;\n    }\n</style>\n<table border=\"1\" class=\"dataframe\">\n  <thead>\n    <tr style=\"text-align: right;\">\n      <th></th>\n      <th>PostalCode</th>\n      <th>Borough</th>\n      <th>Neighborhood</th>\n      <th>Latitude</th>\n      <th>Longitude</th>\n    </tr>\n  </thead>\n  <tbody>\n    <tr>\n      <th>0</th>\n      <td>M3A</td>\n      <td>North York</td>\n      <td>Parkwoods</td>\n      <td>43.753259</td>\n      <td>-79.329656</td>\n    </tr>\n    <tr>\n      <th>1</th>\n      <td>M4A</td>\n      <td>North York</td>\n      <td>Victoria Village</td>\n      <td>43.725882</td>\n      <td>-79.315572</td>\n    </tr>\n    <tr>\n      <th>2</th>\n      <td>M5A</td>\n      <td>Downtown Toronto</td>\n      <td>Regent Park, Harbourfront</td>\n      <td>43.654260</td>\n      <td>-79.360636</td>\n    </tr>\n    <tr>\n      <th>3</th>\n      <td>M6A</td>\n      <td>North York</td>\n      <td>Lawrence Manor, Lawrence Heights</td>\n      <td>43.718518</td>\n      <td>-79.464763</td>\n    </tr>\n    <tr>\n      <th>4</th>\n      <td>M7A</td>\n      <td>Queen's Park</td>\n      <td>Ontario Provincial Government</td>\n      <td>43.662301</td>\n      <td>-79.389494</td>\n    </tr>\n  </tbody>\n</table>\n</div>"
     },
     "metadata": {},
     "execution_count": 7
    }
   ],
   "source": [
    "df3 = pd.merge(df, df2, on = \"PostalCode\", how = \"inner\")\n",
    "df3.head()"
   ]
  },
  {
   "cell_type": "code",
   "execution_count": 9,
   "metadata": {},
   "outputs": [
    {
     "output_type": "stream",
     "name": "stdout",
     "text": [
      "df shape (103, 3)\n  PostalCode     Borough Neighborhood\n0        M3A  North York    Parkwoods\n-\ndf2 shape (103, 3)\n   PostalCode   Latitude  Longitude\n25        M3A  43.753259 -79.329656\n-\ndf3 shape (103, 5)\n  PostalCode     Borough Neighborhood   Latitude  Longitude\n0        M3A  North York    Parkwoods  43.753259 -79.329656\n"
     ]
    }
   ],
   "source": [
    "# just checking\n",
    "print('df shape', df.shape)\n",
    "print(df[df['PostalCode']=='M3A'])\n",
    "print('-')\n",
    "print('df2 shape', df2.shape)\n",
    "print(df2[df2['PostalCode']=='M3A'])\n",
    "print('-')\n",
    "print('df3 shape', df3.shape)\n",
    "print(df3[df3['PostalCode']=='M3A'])\n"
   ]
  },
  {
   "cell_type": "code",
   "execution_count": 10,
   "metadata": {},
   "outputs": [],
   "source": [
    "import json\n",
    "data = json.load(open('config.json', 'r'))\n",
    "\n",
    "CLIENT_ID = data['CLIENT_ID'] # your Foursquare ID\n",
    "CLIENT_SECRET = data['CLIENT_SECRET'] # your Foursquare Secret\n",
    "ACCESS_TOKEN = data['ACCESS_TOKEN'] # your FourSquare Access Token\n",
    "VERSION = '20180604'\n",
    "LIMIT = 30"
   ]
  },
  {
   "source": [
    "## Now, it's time to do some research"
   ],
   "cell_type": "markdown",
   "metadata": {}
  },
  {
   "source": [
    "## define class"
   ],
   "cell_type": "markdown",
   "metadata": {}
  },
  {
   "cell_type": "code",
   "execution_count": 106,
   "metadata": {},
   "outputs": [],
   "source": [
    "class SearchFS(object):\n",
    "\n",
    "    def __init__(self, CLIENT_ID, CLIENT_SECRET, ACCESS_TOKEN):\n",
    "\n",
    "        self.CLIENT_ID = CLIENT_ID\n",
    "        self.CLIENT_SECRET = CLIENT_SECRET\n",
    "        self.ACCESS_TOKEN = ACCESS_TOKEN\n",
    "        self.VERSION = '20180604'\n",
    "        self.LIMIT = 30\n",
    "        self.RADIUS = 500\n",
    "\n",
    "    def venues_search(self, search_query, latitude, longitude):\n",
    "        'Search for query at a given area'\n",
    "\n",
    "        url = \"\"\"https://api.foursquare.com/v2/venues/search?client_id={}&client_secret={}&ll={},{}&oauth_token={}&v={}&query={}&radius={}&limit={}\"\"\".format(\n",
    "            self.CLIENT_ID,\n",
    "            self.CLIENT_SECRET, \n",
    "            latitude,\n",
    "            longitude,\n",
    "            self.ACCESS_TOKEN,\n",
    "            self.VERSION,\n",
    "            search_query,\n",
    "            self.RADIUS,\n",
    "            self.LIMIT\n",
    "            )\n",
    "        return requests.get(url).json()\n",
    "    \n",
    "    def venue_explore(self, venue_id):\n",
    "        'Explore venues'\n",
    "\n",
    "        url = 'https://api.foursquare.com/v2/venues/{}?client_id={}&client_secret={}&oauth_token={}&v={}'.format(\n",
    "            venue_id,\n",
    "            self.CLIENT_ID,\n",
    "            self.CLIENT_SECRET,\n",
    "            self.ACCESS_TOKEN,\n",
    "            self.VERSION)\n",
    "\n",
    "        result = requests.get(url).json()\n",
    "\n",
    "        if 'venue' in result['response']:\n",
    "            return result['response']['venue']\n",
    "\n",
    "    def venue_tips(self, venue_id, limit=15):\n",
    "        'Venue tips'\n",
    "\n",
    "        url = 'https://api.foursquare.com/v2/venues/{}/tips?client_id={}&client_secret={}&oauth_token={}&v={}&limit={}'.format(\n",
    "            venue_id,\n",
    "            self.CLIENT_ID,\n",
    "            self.CLIENT_SECRET,\n",
    "            self.ACCESS_TOKEN,\n",
    "            self.VERSION,\n",
    "            limit)\n",
    "        result = requests.get(url).json()\n",
    "        return result['response']['tips']['items']\n",
    "\n",
    "    def user(self, user_id):\n",
    "        'User details'\n",
    "\n",
    "        url = 'https://api.foursquare.com/v2/users/{}/?client_id={}&client_secret={}&oauth_token={}&v={}'.format(\n",
    "            user_id,\n",
    "            self.CLIENT_ID,\n",
    "            self.CLIENT_SECRET,\n",
    "            self.ACCESS_TOKEN,\n",
    "            self.VERSION)\n",
    "        results = requests.get(url).json()\n",
    "        if 'response' in results and 'user' in results['response']:\n",
    "            return results['response']['user']\n",
    "\n",
    "    def user_tips(self, user_id, limit=15):\n",
    "        'User tips'\n",
    "\n",
    "        url = 'https://api.foursquare.com/v2/users/{}/tips?client_id={}&client_secret={}&oauth_token={}&v={}&limit={}'.format(\n",
    "            user_id,\n",
    "            self.CLIENT_ID,\n",
    "            self.CLIENT_SECRET,\n",
    "            self.ACCESS_TOKEN,\n",
    "            self.VERSION,\n",
    "            limit)\n",
    "        results = requests.get(url).json()\n",
    "        return results['response']['tips']['items']\n",
    "\n",
    "    def location_explore(self, latitude, longitude):\n",
    "        'Explore location'\n",
    "\n",
    "        url = 'https://api.foursquare.com/v2/venues/explore?client_id={}&client_secret={}&ll={},{}&v={}&radius={}&limit={}'.format(\n",
    "            self.CLIENT_ID,\n",
    "            self.CLIENT_SECRET,\n",
    "            latitude,\n",
    "            longitude,\n",
    "            self.VERSION,\n",
    "            self.RADIUS,\n",
    "            self.LIMIT)\n",
    "        results = requests.get(url).json()\n",
    "        return results['response']['groups'][0]['items']\n",
    "\n",
    "\n",
    "\n",
    "searchfs = SearchFS(CLIENT_ID, CLIENT_SECRET, ACCESS_TOKEN)"
   ]
  },
  {
   "cell_type": "code",
   "execution_count": 12,
   "metadata": {},
   "outputs": [],
   "source": [
    "search_postal_code='M5A'\n",
    "search_query = 'restaurant'\n",
    "place = df3[df3['PostalCode']==search_postal_code].squeeze()\n",
    "result = searchfs.venues_search(search_query, place['Latitude'], place['Longitude'])\n",
    "\n"
   ]
  },
  {
   "cell_type": "code",
   "execution_count": 13,
   "metadata": {},
   "outputs": [
    {
     "output_type": "stream",
     "name": "stdout",
     "text": [
      "0 Ryan Restaurant\n1 Site Of Great Canary Restaurant\n2 Weheliye Restaurant\n3 Morning Glory Cafe\n4 White Elephant\n5 Archeo\n"
     ]
    }
   ],
   "source": [
    "from pprint import pprint\n",
    "venues = []\n",
    "for i, r in enumerate(result['response']['venues']):\n",
    "    venues.append(r)\n",
    "    print(i, r['name'])\n",
    "\n"
   ]
  },
  {
   "source": [
    "## let's do some cleaning"
   ],
   "cell_type": "markdown",
   "metadata": {}
  },
  {
   "cell_type": "code",
   "execution_count": 14,
   "metadata": {},
   "outputs": [
    {
     "output_type": "stream",
     "name": "stderr",
     "text": [
      "<ipython-input-14-d760380e5024>:2: FutureWarning: pandas.io.json.json_normalize is deprecated, use pandas.json_normalize instead\n  venues_df = json_normalize(venues)\n"
     ]
    }
   ],
   "source": [
    "from pandas.io.json import json_normalize\n",
    "venues_df = json_normalize(venues)\n",
    "\n",
    "########\n",
    "## from week2 notebook:\n",
    "########\n",
    "\n",
    "# keep only columns that include venue name, and anything that is associated with location\n",
    "filtered_columns = ['name', 'categories'] + [col for col in venues_df.columns if col.startswith('location.')] + ['id']\n",
    "dataframe_filtered = venues_df.loc[:, filtered_columns]\n",
    "\n",
    "# function that extracts the category of the venue\n",
    "def get_category_type(row):\n",
    "    try:\n",
    "        categories_list = row['categories']\n",
    "    except:\n",
    "        categories_list = row['venue.categories']\n",
    "        \n",
    "    if len(categories_list) == 0:\n",
    "        return None\n",
    "    else:\n",
    "        return categories_list[0]['name']\n",
    "\n",
    "# filter the category for each row\n",
    "dataframe_filtered['categories'] = dataframe_filtered.apply(get_category_type, axis=1)\n",
    "\n",
    "# clean column names by keeping only last term\n",
    "dataframe_filtered.columns = [column.split('.')[-1] for column in dataframe_filtered.columns]\n",
    "\n",
    "venues_df_filt = dataframe_filtered"
   ]
  },
  {
   "cell_type": "code",
   "execution_count": 15,
   "metadata": {},
   "outputs": [
    {
     "output_type": "execute_result",
     "data": {
      "text/plain": [
       "                              name            categories             address  \\\n",
       "0                  Ryan Restaurant  Ethiopian Restaurant  356 Queen Street E   \n",
       "1  Site Of Great Canary Restaurant        Breakfast Spot                 NaN   \n",
       "2              Weheliye Restaurant    African Restaurant   272 Parliament St   \n",
       "3               Morning Glory Cafe        Breakfast Spot      457 King St. E   \n",
       "4                   White Elephant       Thai Restaurant                 NaN   \n",
       "5                           Archeo    Italian Restaurant      31 Trinity St.   \n",
       "\n",
       "      crossStreet        lat        lng  \\\n",
       "0  Parliament St.  43.655724 -79.364129   \n",
       "1             NaN  43.653323 -79.357883   \n",
       "2             NaN  43.658536 -79.365689   \n",
       "3    Gilead Place  43.653947 -79.361149   \n",
       "4             NaN  43.655884 -79.363586   \n",
       "5             NaN  43.650667 -79.359431   \n",
       "\n",
       "                                      labeledLatLngs  distance postalCode  cc  \\\n",
       "0  [{'label': 'display', 'lat': 43.655724, 'lng':...       325    M5A 2Z4  CA   \n",
       "1  [{'label': 'display', 'lat': 43.65332280645853...       245        NaN  CA   \n",
       "2  [{'label': 'display', 'lat': 43.658536, 'lng':...       626    M5A 3A4  CA   \n",
       "3  [{'label': 'display', 'lat': 43.65394694263529...        54    M5A 1L6  CA   \n",
       "4  [{'label': 'display', 'lat': 43.65588429857276...       298        NaN  CA   \n",
       "5  [{'label': 'display', 'lat': 43.65066723014277...       411    M5A 3C4  CA   \n",
       "\n",
       "      city state country                                   formattedAddress  \\\n",
       "0  Toronto    ON  Canada  [356 Queen Street E (Parliament St.), Toronto ...   \n",
       "1      NaN   NaN  Canada                                           [Canada]   \n",
       "2  Toronto    ON  Canada    [272 Parliament St, Toronto ON M5A 3A4, Canada]   \n",
       "3  Toronto    ON  Canada  [457 King St. E (Gilead Place), Toronto ON M5A...   \n",
       "4  Toronto    ON  Canada                               [Toronto ON, Canada]   \n",
       "5  Toronto    ON  Canada       [31 Trinity St., Toronto ON M5A 3C4, Canada]   \n",
       "\n",
       "                         id  \n",
       "0  5b9e897ac9a5170039679335  \n",
       "1  4f872713e4b0abaa00979185  \n",
       "2  5bf9f9f7135b39002cd82007  \n",
       "3  4ae5b91ff964a520a6a121e3  \n",
       "4  540bea73498e234757c8b0a7  \n",
       "5  4ac3e6cef964a520629d20e3  "
      ],
      "text/html": "<div>\n<style scoped>\n    .dataframe tbody tr th:only-of-type {\n        vertical-align: middle;\n    }\n\n    .dataframe tbody tr th {\n        vertical-align: top;\n    }\n\n    .dataframe thead th {\n        text-align: right;\n    }\n</style>\n<table border=\"1\" class=\"dataframe\">\n  <thead>\n    <tr style=\"text-align: right;\">\n      <th></th>\n      <th>name</th>\n      <th>categories</th>\n      <th>address</th>\n      <th>crossStreet</th>\n      <th>lat</th>\n      <th>lng</th>\n      <th>labeledLatLngs</th>\n      <th>distance</th>\n      <th>postalCode</th>\n      <th>cc</th>\n      <th>city</th>\n      <th>state</th>\n      <th>country</th>\n      <th>formattedAddress</th>\n      <th>id</th>\n    </tr>\n  </thead>\n  <tbody>\n    <tr>\n      <th>0</th>\n      <td>Ryan Restaurant</td>\n      <td>Ethiopian Restaurant</td>\n      <td>356 Queen Street E</td>\n      <td>Parliament St.</td>\n      <td>43.655724</td>\n      <td>-79.364129</td>\n      <td>[{'label': 'display', 'lat': 43.655724, 'lng':...</td>\n      <td>325</td>\n      <td>M5A 2Z4</td>\n      <td>CA</td>\n      <td>Toronto</td>\n      <td>ON</td>\n      <td>Canada</td>\n      <td>[356 Queen Street E (Parliament St.), Toronto ...</td>\n      <td>5b9e897ac9a5170039679335</td>\n    </tr>\n    <tr>\n      <th>1</th>\n      <td>Site Of Great Canary Restaurant</td>\n      <td>Breakfast Spot</td>\n      <td>NaN</td>\n      <td>NaN</td>\n      <td>43.653323</td>\n      <td>-79.357883</td>\n      <td>[{'label': 'display', 'lat': 43.65332280645853...</td>\n      <td>245</td>\n      <td>NaN</td>\n      <td>CA</td>\n      <td>NaN</td>\n      <td>NaN</td>\n      <td>Canada</td>\n      <td>[Canada]</td>\n      <td>4f872713e4b0abaa00979185</td>\n    </tr>\n    <tr>\n      <th>2</th>\n      <td>Weheliye Restaurant</td>\n      <td>African Restaurant</td>\n      <td>272 Parliament St</td>\n      <td>NaN</td>\n      <td>43.658536</td>\n      <td>-79.365689</td>\n      <td>[{'label': 'display', 'lat': 43.658536, 'lng':...</td>\n      <td>626</td>\n      <td>M5A 3A4</td>\n      <td>CA</td>\n      <td>Toronto</td>\n      <td>ON</td>\n      <td>Canada</td>\n      <td>[272 Parliament St, Toronto ON M5A 3A4, Canada]</td>\n      <td>5bf9f9f7135b39002cd82007</td>\n    </tr>\n    <tr>\n      <th>3</th>\n      <td>Morning Glory Cafe</td>\n      <td>Breakfast Spot</td>\n      <td>457 King St. E</td>\n      <td>Gilead Place</td>\n      <td>43.653947</td>\n      <td>-79.361149</td>\n      <td>[{'label': 'display', 'lat': 43.65394694263529...</td>\n      <td>54</td>\n      <td>M5A 1L6</td>\n      <td>CA</td>\n      <td>Toronto</td>\n      <td>ON</td>\n      <td>Canada</td>\n      <td>[457 King St. E (Gilead Place), Toronto ON M5A...</td>\n      <td>4ae5b91ff964a520a6a121e3</td>\n    </tr>\n    <tr>\n      <th>4</th>\n      <td>White Elephant</td>\n      <td>Thai Restaurant</td>\n      <td>NaN</td>\n      <td>NaN</td>\n      <td>43.655884</td>\n      <td>-79.363586</td>\n      <td>[{'label': 'display', 'lat': 43.65588429857276...</td>\n      <td>298</td>\n      <td>NaN</td>\n      <td>CA</td>\n      <td>Toronto</td>\n      <td>ON</td>\n      <td>Canada</td>\n      <td>[Toronto ON, Canada]</td>\n      <td>540bea73498e234757c8b0a7</td>\n    </tr>\n    <tr>\n      <th>5</th>\n      <td>Archeo</td>\n      <td>Italian Restaurant</td>\n      <td>31 Trinity St.</td>\n      <td>NaN</td>\n      <td>43.650667</td>\n      <td>-79.359431</td>\n      <td>[{'label': 'display', 'lat': 43.65066723014277...</td>\n      <td>411</td>\n      <td>M5A 3C4</td>\n      <td>CA</td>\n      <td>Toronto</td>\n      <td>ON</td>\n      <td>Canada</td>\n      <td>[31 Trinity St., Toronto ON M5A 3C4, Canada]</td>\n      <td>4ac3e6cef964a520629d20e3</td>\n    </tr>\n  </tbody>\n</table>\n</div>"
     },
     "metadata": {},
     "execution_count": 15
    }
   ],
   "source": [
    "#venues_df_filt['name', 'categories']\n",
    "venues_df_filt"
   ]
  },
  {
   "source": [
    "## map"
   ],
   "cell_type": "markdown",
   "metadata": {}
  },
  {
   "cell_type": "code",
   "execution_count": 16,
   "metadata": {},
   "outputs": [
    {
     "output_type": "execute_result",
     "data": {
      "text/plain": [
       "<folium.folium.Map at 0x7f7e0e877f40>"
      ],
      "text/html": "<div style=\"width:100%;\"><div style=\"position:relative;width:100%;height:0;padding-bottom:60%;\"><span style=\"color:#565656\">Make this Notebook Trusted to load map: File -> Trust Notebook</span><iframe src=\"about:blank\" style=\"position:absolute;width:100%;height:100%;left:0;top:0;border:none !important;\" data-html=%3C%21DOCTYPE%20html%3E%0A%3Chead%3E%20%20%20%20%0A%20%20%20%20%3Cmeta%20http-equiv%3D%22content-type%22%20content%3D%22text/html%3B%20charset%3DUTF-8%22%20/%3E%0A%20%20%20%20%3Cscript%3EL_PREFER_CANVAS%20%3D%20false%3B%20L_NO_TOUCH%20%3D%20false%3B%20L_DISABLE_3D%20%3D%20false%3B%3C/script%3E%0A%20%20%20%20%3Cscript%20src%3D%22https%3A//cdn.jsdelivr.net/npm/leaflet%401.2.0/dist/leaflet.js%22%3E%3C/script%3E%0A%20%20%20%20%3Cscript%20src%3D%22https%3A//ajax.googleapis.com/ajax/libs/jquery/1.11.1/jquery.min.js%22%3E%3C/script%3E%0A%20%20%20%20%3Cscript%20src%3D%22https%3A//maxcdn.bootstrapcdn.com/bootstrap/3.2.0/js/bootstrap.min.js%22%3E%3C/script%3E%0A%20%20%20%20%3Cscript%20src%3D%22https%3A//cdnjs.cloudflare.com/ajax/libs/Leaflet.awesome-markers/2.0.2/leaflet.awesome-markers.js%22%3E%3C/script%3E%0A%20%20%20%20%3Clink%20rel%3D%22stylesheet%22%20href%3D%22https%3A//cdn.jsdelivr.net/npm/leaflet%401.2.0/dist/leaflet.css%22/%3E%0A%20%20%20%20%3Clink%20rel%3D%22stylesheet%22%20href%3D%22https%3A//maxcdn.bootstrapcdn.com/bootstrap/3.2.0/css/bootstrap.min.css%22/%3E%0A%20%20%20%20%3Clink%20rel%3D%22stylesheet%22%20href%3D%22https%3A//maxcdn.bootstrapcdn.com/bootstrap/3.2.0/css/bootstrap-theme.min.css%22/%3E%0A%20%20%20%20%3Clink%20rel%3D%22stylesheet%22%20href%3D%22https%3A//maxcdn.bootstrapcdn.com/font-awesome/4.6.3/css/font-awesome.min.css%22/%3E%0A%20%20%20%20%3Clink%20rel%3D%22stylesheet%22%20href%3D%22https%3A//cdnjs.cloudflare.com/ajax/libs/Leaflet.awesome-markers/2.0.2/leaflet.awesome-markers.css%22/%3E%0A%20%20%20%20%3Clink%20rel%3D%22stylesheet%22%20href%3D%22https%3A//rawgit.com/python-visualization/folium/master/folium/templates/leaflet.awesome.rotate.css%22/%3E%0A%20%20%20%20%3Cstyle%3Ehtml%2C%20body%20%7Bwidth%3A%20100%25%3Bheight%3A%20100%25%3Bmargin%3A%200%3Bpadding%3A%200%3B%7D%3C/style%3E%0A%20%20%20%20%3Cstyle%3E%23map%20%7Bposition%3Aabsolute%3Btop%3A0%3Bbottom%3A0%3Bright%3A0%3Bleft%3A0%3B%7D%3C/style%3E%0A%20%20%20%20%0A%20%20%20%20%20%20%20%20%20%20%20%20%3Cstyle%3E%20%23map_26ac5932d68b49aba83a3c17c5e9c5e5%20%7B%0A%20%20%20%20%20%20%20%20%20%20%20%20%20%20%20%20position%20%3A%20relative%3B%0A%20%20%20%20%20%20%20%20%20%20%20%20%20%20%20%20width%20%3A%20100.0%25%3B%0A%20%20%20%20%20%20%20%20%20%20%20%20%20%20%20%20height%3A%20100.0%25%3B%0A%20%20%20%20%20%20%20%20%20%20%20%20%20%20%20%20left%3A%200.0%25%3B%0A%20%20%20%20%20%20%20%20%20%20%20%20%20%20%20%20top%3A%200.0%25%3B%0A%20%20%20%20%20%20%20%20%20%20%20%20%20%20%20%20%7D%0A%20%20%20%20%20%20%20%20%20%20%20%20%3C/style%3E%0A%20%20%20%20%20%20%20%20%0A%3C/head%3E%0A%3Cbody%3E%20%20%20%20%0A%20%20%20%20%0A%20%20%20%20%20%20%20%20%20%20%20%20%3Cdiv%20class%3D%22folium-map%22%20id%3D%22map_26ac5932d68b49aba83a3c17c5e9c5e5%22%20%3E%3C/div%3E%0A%20%20%20%20%20%20%20%20%0A%3C/body%3E%0A%3Cscript%3E%20%20%20%20%0A%20%20%20%20%0A%0A%20%20%20%20%20%20%20%20%20%20%20%20%0A%20%20%20%20%20%20%20%20%20%20%20%20%20%20%20%20var%20bounds%20%3D%20null%3B%0A%20%20%20%20%20%20%20%20%20%20%20%20%0A%0A%20%20%20%20%20%20%20%20%20%20%20%20var%20map_26ac5932d68b49aba83a3c17c5e9c5e5%20%3D%20L.map%28%0A%20%20%20%20%20%20%20%20%20%20%20%20%20%20%20%20%20%20%20%20%20%20%20%20%20%20%20%20%20%20%20%20%20%20%27map_26ac5932d68b49aba83a3c17c5e9c5e5%27%2C%0A%20%20%20%20%20%20%20%20%20%20%20%20%20%20%20%20%20%20%20%20%20%20%20%20%20%20%20%20%20%20%20%20%20%20%7Bcenter%3A%20%5B43.6542599%2C-79.3606359%5D%2C%0A%20%20%20%20%20%20%20%20%20%20%20%20%20%20%20%20%20%20%20%20%20%20%20%20%20%20%20%20%20%20%20%20%20%20zoom%3A%2016%2C%0A%20%20%20%20%20%20%20%20%20%20%20%20%20%20%20%20%20%20%20%20%20%20%20%20%20%20%20%20%20%20%20%20%20%20maxBounds%3A%20bounds%2C%0A%20%20%20%20%20%20%20%20%20%20%20%20%20%20%20%20%20%20%20%20%20%20%20%20%20%20%20%20%20%20%20%20%20%20layers%3A%20%5B%5D%2C%0A%20%20%20%20%20%20%20%20%20%20%20%20%20%20%20%20%20%20%20%20%20%20%20%20%20%20%20%20%20%20%20%20%20%20worldCopyJump%3A%20false%2C%0A%20%20%20%20%20%20%20%20%20%20%20%20%20%20%20%20%20%20%20%20%20%20%20%20%20%20%20%20%20%20%20%20%20%20crs%3A%20L.CRS.EPSG3857%0A%20%20%20%20%20%20%20%20%20%20%20%20%20%20%20%20%20%20%20%20%20%20%20%20%20%20%20%20%20%20%20%20%20%7D%29%3B%0A%20%20%20%20%20%20%20%20%20%20%20%20%0A%20%20%20%20%20%20%20%20%0A%20%20%20%20%0A%20%20%20%20%20%20%20%20%20%20%20%20var%20tile_layer_1d6fe15a9ed94429b1c42293c73f0103%20%3D%20L.tileLayer%28%0A%20%20%20%20%20%20%20%20%20%20%20%20%20%20%20%20%27https%3A//%7Bs%7D.tile.openstreetmap.org/%7Bz%7D/%7Bx%7D/%7By%7D.png%27%2C%0A%20%20%20%20%20%20%20%20%20%20%20%20%20%20%20%20%7B%0A%20%20%22attribution%22%3A%20null%2C%0A%20%20%22detectRetina%22%3A%20false%2C%0A%20%20%22maxZoom%22%3A%2018%2C%0A%20%20%22minZoom%22%3A%201%2C%0A%20%20%22noWrap%22%3A%20false%2C%0A%20%20%22subdomains%22%3A%20%22abc%22%0A%7D%0A%20%20%20%20%20%20%20%20%20%20%20%20%20%20%20%20%29.addTo%28map_26ac5932d68b49aba83a3c17c5e9c5e5%29%3B%0A%20%20%20%20%20%20%20%20%0A%20%20%20%20%0A%20%20%20%20%20%20%20%20%20%20%20%20var%20circle_marker_cb8fe4c14a744df2a5afd6578799c5f5%20%3D%20L.circleMarker%28%0A%20%20%20%20%20%20%20%20%20%20%20%20%20%20%20%20%5B43.6542599%2C-79.3606359%5D%2C%0A%20%20%20%20%20%20%20%20%20%20%20%20%20%20%20%20%7B%0A%20%20%22bubblingMouseEvents%22%3A%20true%2C%0A%20%20%22color%22%3A%20%22red%22%2C%0A%20%20%22dashArray%22%3A%20null%2C%0A%20%20%22dashOffset%22%3A%20null%2C%0A%20%20%22fill%22%3A%20true%2C%0A%20%20%22fillColor%22%3A%20%22red%22%2C%0A%20%20%22fillOpacity%22%3A%200.6%2C%0A%20%20%22fillRule%22%3A%20%22evenodd%22%2C%0A%20%20%22lineCap%22%3A%20%22round%22%2C%0A%20%20%22lineJoin%22%3A%20%22round%22%2C%0A%20%20%22opacity%22%3A%201.0%2C%0A%20%20%22radius%22%3A%2010%2C%0A%20%20%22stroke%22%3A%20true%2C%0A%20%20%22weight%22%3A%203%0A%7D%0A%20%20%20%20%20%20%20%20%20%20%20%20%20%20%20%20%29.addTo%28map_26ac5932d68b49aba83a3c17c5e9c5e5%29%3B%0A%20%20%20%20%20%20%20%20%20%20%20%20%0A%20%20%20%20%0A%20%20%20%20%20%20%20%20%20%20%20%20var%20popup_5827147d470d42ff9992e4e5c0077ddd%20%3D%20L.popup%28%7BmaxWidth%3A%20%27300%27%7D%29%3B%0A%0A%20%20%20%20%20%20%20%20%20%20%20%20%0A%20%20%20%20%20%20%20%20%20%20%20%20%20%20%20%20var%20html_f6affc6bdc5c4cd4ad0a0bab12710250%20%3D%20%24%28%27%3Cdiv%20id%3D%22html_f6affc6bdc5c4cd4ad0a0bab12710250%22%20style%3D%22width%3A%20100.0%25%3B%20height%3A%20100.0%25%3B%22%3EM5A%3C/div%3E%27%29%5B0%5D%3B%0A%20%20%20%20%20%20%20%20%20%20%20%20%20%20%20%20popup_5827147d470d42ff9992e4e5c0077ddd.setContent%28html_f6affc6bdc5c4cd4ad0a0bab12710250%29%3B%0A%20%20%20%20%20%20%20%20%20%20%20%20%0A%0A%20%20%20%20%20%20%20%20%20%20%20%20circle_marker_cb8fe4c14a744df2a5afd6578799c5f5.bindPopup%28popup_5827147d470d42ff9992e4e5c0077ddd%29%3B%0A%0A%20%20%20%20%20%20%20%20%20%20%20%20%0A%20%20%20%20%20%20%20%20%0A%20%20%20%20%0A%20%20%20%20%20%20%20%20%20%20%20%20var%20circle_marker_64556da713bc4113b76fff764dcc0aa7%20%3D%20L.circleMarker%28%0A%20%20%20%20%20%20%20%20%20%20%20%20%20%20%20%20%5B43.655724%2C-79.364129%5D%2C%0A%20%20%20%20%20%20%20%20%20%20%20%20%20%20%20%20%7B%0A%20%20%22bubblingMouseEvents%22%3A%20true%2C%0A%20%20%22color%22%3A%20%22blue%22%2C%0A%20%20%22dashArray%22%3A%20null%2C%0A%20%20%22dashOffset%22%3A%20null%2C%0A%20%20%22fill%22%3A%20true%2C%0A%20%20%22fillColor%22%3A%20%22blue%22%2C%0A%20%20%22fillOpacity%22%3A%200.6%2C%0A%20%20%22fillRule%22%3A%20%22evenodd%22%2C%0A%20%20%22lineCap%22%3A%20%22round%22%2C%0A%20%20%22lineJoin%22%3A%20%22round%22%2C%0A%20%20%22opacity%22%3A%201.0%2C%0A%20%20%22radius%22%3A%205%2C%0A%20%20%22stroke%22%3A%20true%2C%0A%20%20%22weight%22%3A%203%0A%7D%0A%20%20%20%20%20%20%20%20%20%20%20%20%20%20%20%20%29.addTo%28map_26ac5932d68b49aba83a3c17c5e9c5e5%29%3B%0A%20%20%20%20%20%20%20%20%20%20%20%20%0A%20%20%20%20%0A%20%20%20%20%20%20%20%20%20%20%20%20var%20popup_e8a9b4da65424daaad3d635d5f511ddd%20%3D%20L.popup%28%7BmaxWidth%3A%20%27300%27%7D%29%3B%0A%0A%20%20%20%20%20%20%20%20%20%20%20%20%0A%20%20%20%20%20%20%20%20%20%20%20%20%20%20%20%20var%20html_f03c7dd4e8cd4b8995bdfa0428bdca63%20%3D%20%24%28%27%3Cdiv%20id%3D%22html_f03c7dd4e8cd4b8995bdfa0428bdca63%22%20style%3D%22width%3A%20100.0%25%3B%20height%3A%20100.0%25%3B%22%3EEthiopian%20Restaurant%3C/div%3E%27%29%5B0%5D%3B%0A%20%20%20%20%20%20%20%20%20%20%20%20%20%20%20%20popup_e8a9b4da65424daaad3d635d5f511ddd.setContent%28html_f03c7dd4e8cd4b8995bdfa0428bdca63%29%3B%0A%20%20%20%20%20%20%20%20%20%20%20%20%0A%0A%20%20%20%20%20%20%20%20%20%20%20%20circle_marker_64556da713bc4113b76fff764dcc0aa7.bindPopup%28popup_e8a9b4da65424daaad3d635d5f511ddd%29%3B%0A%0A%20%20%20%20%20%20%20%20%20%20%20%20%0A%20%20%20%20%20%20%20%20%0A%20%20%20%20%0A%20%20%20%20%20%20%20%20%20%20%20%20var%20circle_marker_05383bcfb3e4487c96ad49fc15498194%20%3D%20L.circleMarker%28%0A%20%20%20%20%20%20%20%20%20%20%20%20%20%20%20%20%5B43.65332280645853%2C-79.35788330902814%5D%2C%0A%20%20%20%20%20%20%20%20%20%20%20%20%20%20%20%20%7B%0A%20%20%22bubblingMouseEvents%22%3A%20true%2C%0A%20%20%22color%22%3A%20%22blue%22%2C%0A%20%20%22dashArray%22%3A%20null%2C%0A%20%20%22dashOffset%22%3A%20null%2C%0A%20%20%22fill%22%3A%20true%2C%0A%20%20%22fillColor%22%3A%20%22blue%22%2C%0A%20%20%22fillOpacity%22%3A%200.6%2C%0A%20%20%22fillRule%22%3A%20%22evenodd%22%2C%0A%20%20%22lineCap%22%3A%20%22round%22%2C%0A%20%20%22lineJoin%22%3A%20%22round%22%2C%0A%20%20%22opacity%22%3A%201.0%2C%0A%20%20%22radius%22%3A%205%2C%0A%20%20%22stroke%22%3A%20true%2C%0A%20%20%22weight%22%3A%203%0A%7D%0A%20%20%20%20%20%20%20%20%20%20%20%20%20%20%20%20%29.addTo%28map_26ac5932d68b49aba83a3c17c5e9c5e5%29%3B%0A%20%20%20%20%20%20%20%20%20%20%20%20%0A%20%20%20%20%0A%20%20%20%20%20%20%20%20%20%20%20%20var%20popup_0f16c90cccf4484eb91c56d6814a1622%20%3D%20L.popup%28%7BmaxWidth%3A%20%27300%27%7D%29%3B%0A%0A%20%20%20%20%20%20%20%20%20%20%20%20%0A%20%20%20%20%20%20%20%20%20%20%20%20%20%20%20%20var%20html_9fb717a65f414cbe926e54eed2be8022%20%3D%20%24%28%27%3Cdiv%20id%3D%22html_9fb717a65f414cbe926e54eed2be8022%22%20style%3D%22width%3A%20100.0%25%3B%20height%3A%20100.0%25%3B%22%3EBreakfast%20Spot%3C/div%3E%27%29%5B0%5D%3B%0A%20%20%20%20%20%20%20%20%20%20%20%20%20%20%20%20popup_0f16c90cccf4484eb91c56d6814a1622.setContent%28html_9fb717a65f414cbe926e54eed2be8022%29%3B%0A%20%20%20%20%20%20%20%20%20%20%20%20%0A%0A%20%20%20%20%20%20%20%20%20%20%20%20circle_marker_05383bcfb3e4487c96ad49fc15498194.bindPopup%28popup_0f16c90cccf4484eb91c56d6814a1622%29%3B%0A%0A%20%20%20%20%20%20%20%20%20%20%20%20%0A%20%20%20%20%20%20%20%20%0A%20%20%20%20%0A%20%20%20%20%20%20%20%20%20%20%20%20var%20circle_marker_8312e02ae2cb48b2ac825889c868cf1a%20%3D%20L.circleMarker%28%0A%20%20%20%20%20%20%20%20%20%20%20%20%20%20%20%20%5B43.658536%2C-79.365689%5D%2C%0A%20%20%20%20%20%20%20%20%20%20%20%20%20%20%20%20%7B%0A%20%20%22bubblingMouseEvents%22%3A%20true%2C%0A%20%20%22color%22%3A%20%22blue%22%2C%0A%20%20%22dashArray%22%3A%20null%2C%0A%20%20%22dashOffset%22%3A%20null%2C%0A%20%20%22fill%22%3A%20true%2C%0A%20%20%22fillColor%22%3A%20%22blue%22%2C%0A%20%20%22fillOpacity%22%3A%200.6%2C%0A%20%20%22fillRule%22%3A%20%22evenodd%22%2C%0A%20%20%22lineCap%22%3A%20%22round%22%2C%0A%20%20%22lineJoin%22%3A%20%22round%22%2C%0A%20%20%22opacity%22%3A%201.0%2C%0A%20%20%22radius%22%3A%205%2C%0A%20%20%22stroke%22%3A%20true%2C%0A%20%20%22weight%22%3A%203%0A%7D%0A%20%20%20%20%20%20%20%20%20%20%20%20%20%20%20%20%29.addTo%28map_26ac5932d68b49aba83a3c17c5e9c5e5%29%3B%0A%20%20%20%20%20%20%20%20%20%20%20%20%0A%20%20%20%20%0A%20%20%20%20%20%20%20%20%20%20%20%20var%20popup_d7ab7ac8f13f424f96151ea84203c8d0%20%3D%20L.popup%28%7BmaxWidth%3A%20%27300%27%7D%29%3B%0A%0A%20%20%20%20%20%20%20%20%20%20%20%20%0A%20%20%20%20%20%20%20%20%20%20%20%20%20%20%20%20var%20html_d959f48150b4436bb72b301c2711d213%20%3D%20%24%28%27%3Cdiv%20id%3D%22html_d959f48150b4436bb72b301c2711d213%22%20style%3D%22width%3A%20100.0%25%3B%20height%3A%20100.0%25%3B%22%3EAfrican%20Restaurant%3C/div%3E%27%29%5B0%5D%3B%0A%20%20%20%20%20%20%20%20%20%20%20%20%20%20%20%20popup_d7ab7ac8f13f424f96151ea84203c8d0.setContent%28html_d959f48150b4436bb72b301c2711d213%29%3B%0A%20%20%20%20%20%20%20%20%20%20%20%20%0A%0A%20%20%20%20%20%20%20%20%20%20%20%20circle_marker_8312e02ae2cb48b2ac825889c868cf1a.bindPopup%28popup_d7ab7ac8f13f424f96151ea84203c8d0%29%3B%0A%0A%20%20%20%20%20%20%20%20%20%20%20%20%0A%20%20%20%20%20%20%20%20%0A%20%20%20%20%0A%20%20%20%20%20%20%20%20%20%20%20%20var%20circle_marker_1566bcb306dd4ba0bbc685d2f4934324%20%3D%20L.circleMarker%28%0A%20%20%20%20%20%20%20%20%20%20%20%20%20%20%20%20%5B43.653946942635294%2C-79.36114884214422%5D%2C%0A%20%20%20%20%20%20%20%20%20%20%20%20%20%20%20%20%7B%0A%20%20%22bubblingMouseEvents%22%3A%20true%2C%0A%20%20%22color%22%3A%20%22blue%22%2C%0A%20%20%22dashArray%22%3A%20null%2C%0A%20%20%22dashOffset%22%3A%20null%2C%0A%20%20%22fill%22%3A%20true%2C%0A%20%20%22fillColor%22%3A%20%22blue%22%2C%0A%20%20%22fillOpacity%22%3A%200.6%2C%0A%20%20%22fillRule%22%3A%20%22evenodd%22%2C%0A%20%20%22lineCap%22%3A%20%22round%22%2C%0A%20%20%22lineJoin%22%3A%20%22round%22%2C%0A%20%20%22opacity%22%3A%201.0%2C%0A%20%20%22radius%22%3A%205%2C%0A%20%20%22stroke%22%3A%20true%2C%0A%20%20%22weight%22%3A%203%0A%7D%0A%20%20%20%20%20%20%20%20%20%20%20%20%20%20%20%20%29.addTo%28map_26ac5932d68b49aba83a3c17c5e9c5e5%29%3B%0A%20%20%20%20%20%20%20%20%20%20%20%20%0A%20%20%20%20%0A%20%20%20%20%20%20%20%20%20%20%20%20var%20popup_f5b2337d5ea846179e6bc6362f111e2f%20%3D%20L.popup%28%7BmaxWidth%3A%20%27300%27%7D%29%3B%0A%0A%20%20%20%20%20%20%20%20%20%20%20%20%0A%20%20%20%20%20%20%20%20%20%20%20%20%20%20%20%20var%20html_99a751fe648e48ef9efdeba3fcdb456f%20%3D%20%24%28%27%3Cdiv%20id%3D%22html_99a751fe648e48ef9efdeba3fcdb456f%22%20style%3D%22width%3A%20100.0%25%3B%20height%3A%20100.0%25%3B%22%3EBreakfast%20Spot%3C/div%3E%27%29%5B0%5D%3B%0A%20%20%20%20%20%20%20%20%20%20%20%20%20%20%20%20popup_f5b2337d5ea846179e6bc6362f111e2f.setContent%28html_99a751fe648e48ef9efdeba3fcdb456f%29%3B%0A%20%20%20%20%20%20%20%20%20%20%20%20%0A%0A%20%20%20%20%20%20%20%20%20%20%20%20circle_marker_1566bcb306dd4ba0bbc685d2f4934324.bindPopup%28popup_f5b2337d5ea846179e6bc6362f111e2f%29%3B%0A%0A%20%20%20%20%20%20%20%20%20%20%20%20%0A%20%20%20%20%20%20%20%20%0A%20%20%20%20%0A%20%20%20%20%20%20%20%20%20%20%20%20var%20circle_marker_56e64e39b4bf4ada8f38aa7609cc8b91%20%3D%20L.circleMarker%28%0A%20%20%20%20%20%20%20%20%20%20%20%20%20%20%20%20%5B43.655884298572765%2C-79.36358647762914%5D%2C%0A%20%20%20%20%20%20%20%20%20%20%20%20%20%20%20%20%7B%0A%20%20%22bubblingMouseEvents%22%3A%20true%2C%0A%20%20%22color%22%3A%20%22blue%22%2C%0A%20%20%22dashArray%22%3A%20null%2C%0A%20%20%22dashOffset%22%3A%20null%2C%0A%20%20%22fill%22%3A%20true%2C%0A%20%20%22fillColor%22%3A%20%22blue%22%2C%0A%20%20%22fillOpacity%22%3A%200.6%2C%0A%20%20%22fillRule%22%3A%20%22evenodd%22%2C%0A%20%20%22lineCap%22%3A%20%22round%22%2C%0A%20%20%22lineJoin%22%3A%20%22round%22%2C%0A%20%20%22opacity%22%3A%201.0%2C%0A%20%20%22radius%22%3A%205%2C%0A%20%20%22stroke%22%3A%20true%2C%0A%20%20%22weight%22%3A%203%0A%7D%0A%20%20%20%20%20%20%20%20%20%20%20%20%20%20%20%20%29.addTo%28map_26ac5932d68b49aba83a3c17c5e9c5e5%29%3B%0A%20%20%20%20%20%20%20%20%20%20%20%20%0A%20%20%20%20%0A%20%20%20%20%20%20%20%20%20%20%20%20var%20popup_6c4a299421fa4251b7451a027176b932%20%3D%20L.popup%28%7BmaxWidth%3A%20%27300%27%7D%29%3B%0A%0A%20%20%20%20%20%20%20%20%20%20%20%20%0A%20%20%20%20%20%20%20%20%20%20%20%20%20%20%20%20var%20html_7a6590e148bd4a508fedd4034fa4721b%20%3D%20%24%28%27%3Cdiv%20id%3D%22html_7a6590e148bd4a508fedd4034fa4721b%22%20style%3D%22width%3A%20100.0%25%3B%20height%3A%20100.0%25%3B%22%3EThai%20Restaurant%3C/div%3E%27%29%5B0%5D%3B%0A%20%20%20%20%20%20%20%20%20%20%20%20%20%20%20%20popup_6c4a299421fa4251b7451a027176b932.setContent%28html_7a6590e148bd4a508fedd4034fa4721b%29%3B%0A%20%20%20%20%20%20%20%20%20%20%20%20%0A%0A%20%20%20%20%20%20%20%20%20%20%20%20circle_marker_56e64e39b4bf4ada8f38aa7609cc8b91.bindPopup%28popup_6c4a299421fa4251b7451a027176b932%29%3B%0A%0A%20%20%20%20%20%20%20%20%20%20%20%20%0A%20%20%20%20%20%20%20%20%0A%20%20%20%20%0A%20%20%20%20%20%20%20%20%20%20%20%20var%20circle_marker_1f8f4c5512d44dcbb7967f78f69b6345%20%3D%20L.circleMarker%28%0A%20%20%20%20%20%20%20%20%20%20%20%20%20%20%20%20%5B43.65066723014277%2C-79.35943064816142%5D%2C%0A%20%20%20%20%20%20%20%20%20%20%20%20%20%20%20%20%7B%0A%20%20%22bubblingMouseEvents%22%3A%20true%2C%0A%20%20%22color%22%3A%20%22blue%22%2C%0A%20%20%22dashArray%22%3A%20null%2C%0A%20%20%22dashOffset%22%3A%20null%2C%0A%20%20%22fill%22%3A%20true%2C%0A%20%20%22fillColor%22%3A%20%22blue%22%2C%0A%20%20%22fillOpacity%22%3A%200.6%2C%0A%20%20%22fillRule%22%3A%20%22evenodd%22%2C%0A%20%20%22lineCap%22%3A%20%22round%22%2C%0A%20%20%22lineJoin%22%3A%20%22round%22%2C%0A%20%20%22opacity%22%3A%201.0%2C%0A%20%20%22radius%22%3A%205%2C%0A%20%20%22stroke%22%3A%20true%2C%0A%20%20%22weight%22%3A%203%0A%7D%0A%20%20%20%20%20%20%20%20%20%20%20%20%20%20%20%20%29.addTo%28map_26ac5932d68b49aba83a3c17c5e9c5e5%29%3B%0A%20%20%20%20%20%20%20%20%20%20%20%20%0A%20%20%20%20%0A%20%20%20%20%20%20%20%20%20%20%20%20var%20popup_f71988b63c834ce1b910aaeaf3054cae%20%3D%20L.popup%28%7BmaxWidth%3A%20%27300%27%7D%29%3B%0A%0A%20%20%20%20%20%20%20%20%20%20%20%20%0A%20%20%20%20%20%20%20%20%20%20%20%20%20%20%20%20var%20html_14e52bef9b674bd6829084d9ea4a1443%20%3D%20%24%28%27%3Cdiv%20id%3D%22html_14e52bef9b674bd6829084d9ea4a1443%22%20style%3D%22width%3A%20100.0%25%3B%20height%3A%20100.0%25%3B%22%3EItalian%20Restaurant%3C/div%3E%27%29%5B0%5D%3B%0A%20%20%20%20%20%20%20%20%20%20%20%20%20%20%20%20popup_f71988b63c834ce1b910aaeaf3054cae.setContent%28html_14e52bef9b674bd6829084d9ea4a1443%29%3B%0A%20%20%20%20%20%20%20%20%20%20%20%20%0A%0A%20%20%20%20%20%20%20%20%20%20%20%20circle_marker_1f8f4c5512d44dcbb7967f78f69b6345.bindPopup%28popup_f71988b63c834ce1b910aaeaf3054cae%29%3B%0A%0A%20%20%20%20%20%20%20%20%20%20%20%20%0A%20%20%20%20%20%20%20%20%0A%3C/script%3E onload=\"this.contentDocument.open();this.contentDocument.write(    decodeURIComponent(this.getAttribute('data-html')));this.contentDocument.close();\" allowfullscreen webkitallowfullscreen mozallowfullscreen></iframe></div></div>"
     },
     "metadata": {},
     "execution_count": 16
    }
   ],
   "source": [
    "##############\n",
    "## from week2 notebook:\n",
    "##############\n",
    "import folium # plotting library\n",
    "venues_map = folium.Map(location=[place['Latitude'], place['Longitude']], zoom_start=16) # generate map centred around the Conrad Hotel\n",
    "\n",
    "# add a red circle marker to represent the PLACE\n",
    "folium.CircleMarker(\n",
    "    [place['Latitude'], place['Longitude']],\n",
    "    radius=10,\n",
    "    color='red',\n",
    "    popup=search_postal_code,\n",
    "    fill = True,\n",
    "    fill_color = 'red',\n",
    "    fill_opacity = 0.6\n",
    ").add_to(venues_map)\n",
    "\n",
    "# add the restaurants as blue circle markers\n",
    "for lat, lng, label in zip(venues_df_filt.lat, venues_df_filt.lng, venues_df_filt.categories):\n",
    "    folium.CircleMarker(\n",
    "        [lat, lng],\n",
    "        radius=5,\n",
    "        color='blue',\n",
    "        popup=label,\n",
    "        fill = True,\n",
    "        fill_color='blue',\n",
    "        fill_opacity=0.6\n",
    "    ).add_to(venues_map)\n",
    "\n",
    "# display map\n",
    "venues_map"
   ]
  },
  {
   "source": [
    "## Explore these venues"
   ],
   "cell_type": "markdown",
   "metadata": {}
  },
  {
   "cell_type": "code",
   "execution_count": 17,
   "metadata": {
    "tags": [
     "outputPrepend"
    ]
   },
   "outputs": [
    {
     "output_type": "stream",
     "name": "stdout",
     "text": [
      "D1WUD5KGBQIRT4VSPL2EITRRUX1HRLBVVUG4QT.jpg', 'width': 612, 'height': 612, 'user': {'id': '63844', 'firstName': 'Kevin', 'lastName': \"O'Neill\", 'gender': 'male', 'countryCode': 'US', 'photo': {'prefix': 'https://fastly.4sqi.net/img/user/', 'suffix': '/63844_7Pbe5thJ_4BCEByzGUQIZ75WK_sQjaqDChnPxjbUUnFpD_0fG4asOQI5jtGftF6LIMV_thS80.jpg'}}, 'visibility': 'public'}, 'followers': {'count': 12}, 'listItems': {'count': 24, 'items': [{'id': 'v4ae5b91ff964a520a6a121e3', 'createdAt': 1335316028}]}}, {'id': '4e974226b634527c67b2a68d', 'name': 'Toronto Brunch Spots', 'description': '', 'type': 'others', 'user': {'id': '1617486', 'firstName': 'Ishy', 'lastName': 'Dee', 'gender': 'male', 'countryCode': 'US', 'photo': {'prefix': 'https://fastly.4sqi.net/img/user/', 'suffix': '/SSWCA4B5WZLUWYEP.jpg'}}, 'editable': False, 'public': True, 'collaborative': False, 'url': '/ishdee/list/toronto-brunch-spots', 'canonicalUrl': 'https://foursquare.com/ishdee/list/toronto-brunch-spots', 'createdAt': 1318535718, 'updatedAt': 1367851232, 'followers': {'count': 22}, 'listItems': {'count': 14, 'items': [{'id': 'v4ae5b91ff964a520a6a121e3', 'createdAt': 1318535811}]}}]}]}, 'hours': {'status': 'Closed until 8:30 AM tomorrow', 'richStatus': {'entities': [], 'text': 'Closed until 8:30 AM tomorrow'}, 'isOpen': False, 'isLocalHoliday': False, 'dayData': [], 'timeframes': [{'days': 'Mon, Thu–Fri', 'open': [{'renderedTime': '8:30 AM–3:00 PM'}], 'segments': []}, {'days': 'Sat–Sun', 'includesToday': True, 'open': [{'renderedTime': '9:00 AM–3:00 PM'}], 'segments': []}]}, 'popular': {'isOpen': False, 'isLocalHoliday': False, 'timeframes': [{'days': 'Today', 'includesToday': True, 'open': [{'renderedTime': '9:00 AM–3:00 PM'}], 'segments': []}, {'days': 'Mon', 'open': [{'renderedTime': '8:00 AM–3:00 PM'}], 'segments': []}, {'days': 'Tue', 'open': [{'renderedTime': '8:00 AM–2:00 PM'}], 'segments': []}, {'days': 'Wed', 'open': [{'renderedTime': '8:00 AM–10:00 AM'}, {'renderedTime': 'Noon–2:00 PM'}], 'segments': []}, {'days': 'Thu–Fri', 'open': [{'renderedTime': '8:00 AM–3:00 PM'}], 'segments': []}, {'days': 'Sat', 'open': [{'renderedTime': '9:00 AM–3:00 PM'}], 'segments': []}]}, 'seasonalHours': [], 'defaultHours': {'status': 'Closed until 8:30 AM tomorrow', 'richStatus': {'entities': [], 'text': 'Closed until 8:30 AM tomorrow'}, 'isOpen': False, 'isLocalHoliday': False, 'dayData': [], 'timeframes': [{'days': 'Mon, Thu–Fri', 'open': [{'renderedTime': '8:30 AM–3:00 PM'}], 'segments': []}, {'days': 'Sat–Sun', 'includesToday': True, 'open': [{'renderedTime': '9:00 AM–3:00 PM'}], 'segments': []}]}, 'pageUpdates': {'count': 0, 'items': []}, 'inbox': {'count': 0, 'items': []}, 'attributes': {'groups': [{'type': 'price', 'name': 'Price', 'summary': '$', 'count': 1, 'items': [{'displayName': 'Price', 'displayValue': '$', 'priceTier': 1}]}, {'type': 'reservations', 'name': 'Reservations', 'count': 3, 'items': [{'displayName': 'Reservations', 'displayValue': 'No'}]}, {'type': 'payments', 'name': 'Credit Cards', 'summary': 'No Credit Cards', 'count': 5, 'items': [{'displayName': 'Credit Cards', 'displayValue': 'No'}]}, {'type': 'outdoorSeating', 'name': 'Outdoor Seating', 'summary': 'Outdoor Seating', 'count': 1, 'items': [{'displayName': 'Outdoor Seating', 'displayValue': 'Yes'}]}, {'type': 'serves', 'name': 'Menus', 'summary': 'Lunch, Brunch & more', 'count': 8, 'items': [{'displayName': 'Breakfast', 'displayValue': 'Breakfast'}, {'displayName': 'Brunch', 'displayValue': 'Brunch'}, {'displayName': 'Lunch', 'displayValue': 'Lunch'}]}]}, 'bestPhoto': {'id': '4fb144b8e4b0a5d4c19212b1', 'createdAt': 1337017528, 'source': {'name': 'Foursquare for iOS', 'url': 'https://foursquare.com/download/#/iphone'}, 'prefix': 'https://fastly.4sqi.net/img/general/', 'suffix': '/4VHwvE8cjZfvf8Gsb_unQVMibvPDEwNkX0aPb0LhpQw.jpg', 'width': 720, 'height': 540, 'visibility': 'public'}, 'colors': {'highlightColor': {'photoId': '4fb144b8e4b0a5d4c19212b1', 'value': -1517448}, 'highlightTextColor': {'photoId': '4fb144b8e4b0a5d4c19212b1', 'value': -16777216}, 'algoVersion': 3}}, {'id': '540bea73498e234757c8b0a7', 'name': 'White Elephant', 'contact': {}, 'location': {'lat': 43.655884298572765, 'lng': -79.36358647762914, 'labeledLatLngs': [{'label': 'display', 'lat': 43.655884298572765, 'lng': -79.36358647762914}], 'cc': 'CA', 'city': 'Toronto', 'state': 'ON', 'country': 'Canada', 'formattedAddress': ['Toronto ON', 'Canada']}, 'canonicalUrl': 'https://foursquare.com/v/white-elephant/540bea73498e234757c8b0a7', 'categories': [{'id': '4bf58dd8d48988d149941735', 'name': 'Thai Restaurant', 'pluralName': 'Thai Restaurants', 'shortName': 'Thai', 'icon': {'prefix': 'https://ss3.4sqi.net/img/categories_v2/food/thai_', 'suffix': '.png'}, 'primary': True}], 'verified': False, 'stats': {'tipCount': 3}, 'price': {'tier': 2, 'message': 'Moderate', 'currency': '$'}, 'likes': {'count': 4, 'groups': [{'type': 'others', 'count': 4, 'items': [{'id': '40282454', 'firstName': 'Marina', 'lastName': 'Baldini', 'gender': 'female', 'countryCode': 'IT', 'photo': {'prefix': 'https://fastly.4sqi.net/img/user/', 'suffix': '/MMEEHTICHKEWWDZ3.jpg'}}, {'id': '126169090', 'firstName': 'Olivier', 'lastName': 'Lord', 'gender': 'male', 'countryCode': 'CA', 'photo': {'prefix': 'https://fastly.4sqi.net/img/user/', 'suffix': '/126169090-KJYBGW2WIU3CWNG3.jpg'}}, {'id': '96151672', 'firstName': 'BJ', 'lastName': 'C', 'gender': 'none', 'countryCode': 'CA', 'photo': {'prefix': 'https://fastly.4sqi.net/img/user/', 'suffix': '/blank_boy.png', 'default': True}}, {'id': '15089291', 'firstName': 'Adam', 'lastName': 'Peleshok', 'gender': 'male', 'countryCode': 'CA', 'photo': {'prefix': 'https://fastly.4sqi.net/img/user/', 'suffix': '/0QYMCXJVIDURGMGW.jpg'}}]}], 'summary': 'Marina Baldini, Olivier Lord, BJ C & Adam Peleshok'}, 'like': False, 'dislike': False, 'ok': False, 'allowMenuUrlEdit': True, 'beenHere': {'count': 0, 'unconfirmedCount': 0, 'marked': False, 'lastCheckinExpiredAt': 0}, 'specials': {'count': 0, 'items': []}, 'photos': {'count': 6, 'groups': [{'type': 'venue', 'name': 'Venue photos', 'count': 6, 'items': [{'id': '558b2729498ea7dff8cd6433', 'createdAt': 1435182889, 'source': {'name': 'Swarm for iOS', 'url': 'https://www.swarmapp.com'}, 'prefix': 'https://fastly.4sqi.net/img/general/', 'suffix': '/40282454_JLbGZe91V_K3bnfTLbGBBVDKNDJCR_4AcqryqUUa_1w.jpg', 'width': 1440, 'height': 1917, 'user': {'id': '40282454', 'firstName': 'Marina', 'lastName': 'Baldini', 'gender': 'female', 'countryCode': 'IT', 'photo': {'prefix': 'https://fastly.4sqi.net/img/user/', 'suffix': '/MMEEHTICHKEWWDZ3.jpg'}}, 'visibility': 'public'}]}]}, 'reasons': {'count': 0, 'items': []}, 'hereNow': {'count': 0, 'summary': 'Nobody here', 'groups': []}, 'createdAt': 1410067059, 'tips': {'count': 3, 'groups': [{'type': 'following', 'name': 'Tips from people you follow', 'count': 0, 'items': []}, {'type': 'others', 'name': 'All tips', 'count': 3, 'items': [{'id': '54501db9498e9e1655da3a80', 'createdAt': 1414536633, 'text': 'Thai iced tea and pork dry noodle are the best ever...', 'type': 'user', 'canonicalUrl': 'https://foursquare.com/item/54501db9498e9e1655da3a80', 'photo': {'id': '54501dbb498eb5a970934f95', 'createdAt': 1414536635, 'source': {'name': 'Foursquare for iOS', 'url': 'https://foursquare.com/download/#/iphone'}, 'prefix': 'https://fastly.4sqi.net/img/general/', 'suffix': '/96151672_mW0HfwiECM3twQZjSOgVK__VBladOj2rc7-EW1y9VOE.jpg', 'width': 960, 'height': 720, 'visibility': 'public'}, 'photourl': 'https://fastly.4sqi.net/img/general/original/96151672_mW0HfwiECM3twQZjSOgVK__VBladOj2rc7-EW1y9VOE.jpg', 'likes': {'count': 1, 'groups': [{'type': 'others', 'count': 1, 'items': [{'id': '96151672', 'firstName': 'BJ', 'lastName': 'C', 'gender': 'none', 'countryCode': 'CA', 'photo': {'prefix': 'https://fastly.4sqi.net/img/user/', 'suffix': '/blank_boy.png', 'default': True}}]}], 'summary': '1 like'}, 'like': False, 'logView': True, 'agreeCount': 1, 'disagreeCount': 0, 'todo': {'count': 0}, 'user': {'id': '96151672', 'firstName': 'BJ', 'lastName': 'C', 'gender': 'none', 'countryCode': 'CA', 'photo': {'prefix': 'https://fastly.4sqi.net/img/user/', 'suffix': '/blank_boy.png', 'default': True}}}]}]}, 'shortUrl': 'http://4sq.com/1lOJgKh', 'timeZone': 'America/Toronto', 'listed': {'count': 1, 'groups': [{'type': 'others', 'name': 'Lists from other people', 'count': 1, 'items': [{'id': '4eb1c370490126a56ffa10a3', 'name': 'I love these eateries', 'description': '', 'type': 'others', 'user': {'id': '169611', 'firstName': 'Miguel', 'lastName': 'Florendo', 'gender': 'male', 'countryCode': 'CA', 'photo': {'prefix': 'https://fastly.4sqi.net/img/user/', 'suffix': '/HX4IFCGBU4PMVGTY.jpg'}}, 'editable': False, 'public': True, 'collaborative': False, 'url': '/migz_bynx/list/i-love-these-eateries', 'canonicalUrl': 'https://foursquare.com/migz_bynx/list/i-love-these-eateries', 'createdAt': 1320272752, 'updatedAt': 1417319128, 'photo': {'id': '50b12b4ee4b0ca599adfe2ff', 'createdAt': 1353788238, 'prefix': 'https://fastly.4sqi.net/img/general/', 'suffix': '/169611_YVpmXDnh1Ab3H4gcUd7t2cKpfiVDavyVzknehacT3Nk.jpg', 'width': 720, 'height': 540, 'user': {'id': '169611', 'firstName': 'Miguel', 'lastName': 'Florendo', 'gender': 'male', 'countryCode': 'CA', 'photo': {'prefix': 'https://fastly.4sqi.net/img/user/', 'suffix': '/HX4IFCGBU4PMVGTY.jpg'}}, 'visibility': 'public'}, 'followers': {'count': 7}, 'listItems': {'count': 97, 'items': [{'id': 'v540bea73498e234757c8b0a7', 'createdAt': 1417319106}]}}]}]}, 'seasonalHours': [], 'pageUpdates': {'count': 0, 'items': []}, 'inbox': {'count': 0, 'items': []}, 'attributes': {'groups': [{'type': 'price', 'name': 'Price', 'summary': '$$', 'count': 1, 'items': [{'displayName': 'Price', 'displayValue': '$$', 'priceTier': 2}]}, {'type': 'outdoorSeating', 'name': 'Outdoor Seating', 'count': 1, 'items': [{'displayName': 'Outdoor Seating', 'displayValue': 'No'}]}]}, 'bestPhoto': {'id': '558b2729498ea7dff8cd6433', 'createdAt': 1435182889, 'source': {'name': 'Swarm for iOS', 'url': 'https://www.swarmapp.com'}, 'prefix': 'https://fastly.4sqi.net/img/general/', 'suffix': '/40282454_JLbGZe91V_K3bnfTLbGBBVDKNDJCR_4AcqryqUUa_1w.jpg', 'width': 1440, 'height': 1917, 'visibility': 'public'}}, {'id': '4ac3e6cef964a520629d20e3', 'name': 'Archeo', 'contact': {'phone': '+14168159898', 'formattedPhone': '+1 416-815-9898', 'twitter': 'archeotoronto'}, 'location': {'address': '31 Trinity St.', 'lat': 43.65066723014277, 'lng': -79.35943064816142, 'labeledLatLngs': [{'label': 'display', 'lat': 43.65066723014277, 'lng': -79.35943064816142}], 'postalCode': 'M5A 3C4', 'cc': 'CA', 'city': 'Toronto', 'state': 'ON', 'country': 'Canada', 'formattedAddress': ['31 Trinity St.', 'Toronto ON M5A 3C4', 'Canada']}, 'canonicalUrl': 'https://foursquare.com/v/archeo/4ac3e6cef964a520629d20e3', 'categories': [{'id': '4bf58dd8d48988d110941735', 'name': 'Italian Restaurant', 'pluralName': 'Italian Restaurants', 'shortName': 'Italian', 'icon': {'prefix': 'https://ss3.4sqi.net/img/categories_v2/food/italian_', 'suffix': '.png'}, 'primary': True}], 'verified': True, 'stats': {'tipCount': 15}, 'url': 'http://archeo.ca', 'price': {'tier': 2, 'message': 'Moderate', 'currency': '$'}, 'likes': {'count': 21, 'groups': [{'type': 'others', 'count': 21, 'items': []}], 'summary': '21 Likes'}, 'like': False, 'dislike': False, 'ok': False, 'rating': 7.0, 'ratingColor': 'C5DE35', 'ratingSignals': 44, 'allowMenuUrlEdit': True, 'beenHere': {'count': 0, 'unconfirmedCount': 0, 'marked': False, 'lastCheckinExpiredAt': 0}, 'specials': {'count': 0, 'items': []}, 'photos': {'count': 92, 'groups': [{'type': 'venue', 'name': 'Venue photos', 'count': 92, 'items': [{'id': '51857661498edeec0473db70', 'createdAt': 1367701089, 'source': {'name': 'Instagram', 'url': 'http://instagram.com'}, 'prefix': 'https://fastly.4sqi.net/img/general/', 'suffix': '/352320_2nPF3Wp_kvqrl76b3PKG1lRAweBCC-nqpOlsA9PfZt4.jpg', 'width': 612, 'height': 612, 'user': {'id': '352320', 'firstName': 'Tasha', 'lastName': 'Sl8r', 'gender': 'female', 'countryCode': 'CA', 'photo': {'prefix': 'https://fastly.4sqi.net/img/user/', 'suffix': '/352320_b02GKrlH_QnLpqThZfHMS9c2F4CJaN6uLrUnrX_7asCfftge6KhdWbpSCKll0qXqgIiqz8sOF.jpg'}}, 'visibility': 'public'}]}]}, 'venuePage': {'id': '38103525'}, 'reasons': {'count': 0, 'items': []}, 'description': 'Archeo brings upscale comfort food with a modern twist to the heart of The Distillery District.', 'storeId': '', 'page': {'user': {'id': '38103525', 'firstName': 'Archeo', 'gender': 'none', 'countryCode': 'CA', 'photo': {'prefix': 'https://fastly.4sqi.net/img/user/', 'suffix': '/38103525-2FLH3E0ONQ5SJZS3.png'}, 'type': 'venuePage', 'venue': {'id': '4ac3e6cef964a520629d20e3'}, 'tips': {'count': 0}, 'lists': {'groups': [{'type': 'created', 'count': 2, 'items': []}]}, 'homeCity': 'Toronto, ON', 'bio': '', 'contact': {}}}, 'hereNow': {'count': 0, 'summary': 'Nobody here', 'groups': []}, 'createdAt': 1254352590, 'tips': {'count': 15, 'groups': [{'type': 'following', 'name': 'Tips from people you follow', 'count': 0, 'items': []}, {'type': 'others', 'name': 'All tips', 'count': 15, 'items': [{'id': '547cc1c5498e6d582950840e', 'createdAt': 1417462213, 'text': 'Lobster risotto! Everything was hot and fresh ! Loved it .', 'type': 'user', 'canonicalUrl': 'https://foursquare.com/item/547cc1c5498e6d582950840e', 'likes': {'count': 1, 'groups': [{'type': 'others', 'count': 1, 'items': [{'id': '65418413', 'firstName': 'Marie', 'lastName': 'Gurcharn', 'gender': 'female', 'countryCode': 'CA', 'photo': {'prefix': 'https://fastly.4sqi.net/img/user/', 'suffix': '/VFNLGSL1NJLE0C0T.jpg'}}]}], 'summary': '1 like'}, 'like': False, 'logView': True, 'agreeCount': 1, 'disagreeCount': 0, 'todo': {'count': 0}, 'user': {'id': '65418413', 'firstName': 'Marie', 'lastName': 'Gurcharn', 'gender': 'female', 'countryCode': 'CA', 'photo': {'prefix': 'https://fastly.4sqi.net/img/user/', 'suffix': '/VFNLGSL1NJLE0C0T.jpg'}}, 'authorInteractionType': 'liked'}]}]}, 'shortUrl': 'http://4sq.com/bLpK1l', 'timeZone': 'America/Toronto', 'listed': {'count': 19, 'groups': [{'type': 'others', 'name': 'Lists from other people', 'count': 19, 'items': [{'id': '4f1a463fe4b064e65ace673f', 'name': 'Places I Want to Visit', 'description': '', 'type': 'others', 'user': {'id': '12191263', 'firstName': 'Tara', 'gender': 'female', 'countryCode': 'CA', 'photo': {'prefix': 'https://fastly.4sqi.net/img/user/', 'suffix': '/ZAQUZMSDXRBSNYJF.jpg'}}, 'editable': False, 'public': True, 'collaborative': False, 'url': '/tara_deschamps/list/places-i-want-to-visit', 'canonicalUrl': 'https://foursquare.com/tara_deschamps/list/places-i-want-to-visit', 'createdAt': 1327121983, 'updatedAt': 1402718182, 'photo': {'id': '51d5e213498eb464506284a7', 'createdAt': 1372971539, 'prefix': 'https://fastly.4sqi.net/img/general/', 'suffix': '/15070837__u2QqHSSPXyQ1FKCe-lqplo_r3RZCaWapulymLDbw6U.jpg', 'width': 960, 'height': 720, 'user': {'id': '15070837', 'firstName': 'Typo', 'lastName': 'Misspell', 'gender': 'female', 'countryCode': 'CA', 'photo': {'prefix': 'https://fastly.4sqi.net/img/user/', 'suffix': '/UQVD1FJPAVQVCHWM.jpg'}}, 'visibility': 'public'}, 'followers': {'count': 7}, 'listItems': {'count': 127, 'items': [{'id': 'v4ac3e6cef964a520629d20e3', 'createdAt': 1356332360}]}}, {'id': '50b92b9be4b0cdd4baf716a2', 'name': 'Toronto Food - Part 1', 'description': '', 'type': 'others', 'user': {'id': '3875010', 'firstName': 'Denise', 'gender': 'female', 'countryCode': 'CA', 'photo': {'prefix': 'https://fastly.4sqi.net/img/user/', 'suffix': '/1OPPKBK2FI5EAH0A.jpg'}}, 'editable': False, 'public': True, 'collaborative': False, 'url': '/user/3875010/list/toronto-food--part-1', 'canonicalUrl': 'https://foursquare.com/user/3875010/list/toronto-food--part-1', 'createdAt': 1354312603, 'updatedAt': 1545517748, 'photo': {'id': '50893469e4b0aa994cbdacd7', 'createdAt': 1351169129, 'prefix': 'https://fastly.4sqi.net/img/general/', 'suffix': '/1589524_YV4qTFt0C_EjiNxnCmG8eglubmxOAUaN9oFFSfkXz7Q.jpg', 'width': 800, 'height': 800, 'user': {'id': '1589524', 'firstName': 'jade', 'gender': 'female', 'countryCode': 'CA', 'photo': {'prefix': 'https://fastly.4sqi.net/img/user/', 'suffix': '/1589524-3FRBRKM1N12NK0TE.jpg'}}, 'visibility': 'public'}, 'followers': {'count': 15}, 'listItems': {'count': 242, 'items': [{'id': 'v4ac3e6cef964a520629d20e3', 'createdAt': 1545508624}]}}]}]}, 'hours': {'status': 'Closed until 5:00 PM tomorrow', 'richStatus': {'entities': [], 'text': 'Closed until 5:00 PM tomorrow'}, 'isOpen': False, 'isLocalHoliday': False, 'dayData': [], 'timeframes': [{'days': 'Mon–Fri', 'open': [{'renderedTime': '5:00 PM–9:00 PM'}], 'segments': []}, {'days': 'Sat–Sun', 'includesToday': True, 'open': [{'renderedTime': 'Noon–9:00 PM'}], 'segments': []}]}, 'popular': {'isOpen': False, 'isLocalHoliday': False, 'timeframes': [{'days': 'Today', 'includesToday': True, 'open': [{'renderedTime': '10:00 AM–2:00 PM'}, {'renderedTime': '4:00 PM–9:00 PM'}], 'segments': []}, {'days': 'Mon', 'open': [{'renderedTime': 'Noon–1:00 PM'}, {'renderedTime': '4:00 PM–10:00 PM'}], 'segments': []}, {'days': 'Tue', 'open': [{'renderedTime': '2:00 PM–3:00 PM'}, {'renderedTime': '5:00 PM–8:00 PM'}], 'segments': []}, {'days': 'Wed', 'open': [{'renderedTime': 'Noon–1:00 PM'}, {'renderedTime': '5:00 PM–10:00 PM'}], 'segments': []}, {'days': 'Thu', 'open': [{'renderedTime': '11:00 AM–2:00 PM'}, {'renderedTime': '5:00 PM–10:00 PM'}], 'segments': []}, {'days': 'Fri', 'open': [{'renderedTime': '8:00 AM–9:00 AM'}, {'renderedTime': 'Noon–2:00 PM'}, {'renderedTime': '5:00 PM–10:00 PM'}], 'segments': []}, {'days': 'Sat', 'open': [{'renderedTime': 'Noon–10:00 PM'}], 'segments': []}]}, 'seasonalHours': [], 'defaultHours': {'status': 'Closed until 5:00 PM tomorrow', 'richStatus': {'entities': [], 'text': 'Closed until 5:00 PM tomorrow'}, 'isOpen': False, 'isLocalHoliday': False, 'dayData': [], 'timeframes': [{'days': 'Mon–Fri', 'open': [{'renderedTime': '5:00 PM–9:00 PM'}], 'segments': []}, {'days': 'Sat–Sun', 'includesToday': True, 'open': [{'renderedTime': 'Noon–9:00 PM'}], 'segments': []}]}, 'pageUpdates': {'count': 0, 'items': []}, 'inbox': {'count': 0, 'items': []}, 'parent': {'id': '4ad4c05ef964a520bff620e3', 'name': 'The Distillery Historic District', 'location': {'address': 'btwn Front, Cherry, Gardiner & Parliament', 'lat': 43.65024435658077, 'lng': -79.35932278633118, 'labeledLatLngs': [{'label': 'display', 'lat': 43.65024435658077, 'lng': -79.35932278633118}], 'postalCode': 'M5A 3C4', 'cc': 'CA', 'city': 'Toronto', 'state': 'ON', 'country': 'Canada', 'formattedAddress': ['btwn Front, Cherry, Gardiner & Parliament', 'Toronto ON M5A 3C4', 'Canada']}, 'categories': [{'id': '4deefb944765f83613cdba6e', 'name': 'Historic Site', 'pluralName': 'Historic Sites', 'shortName': 'Historic Site', 'icon': {'prefix': 'https://ss3.4sqi.net/img/categories_v2/arts_entertainment/historicsite_', 'suffix': '.png'}, 'primary': True}]}, 'hierarchy': [{'name': 'The Distillery Historic District', 'lang': 'BR', 'id': '4ad4c05ef964a520bff620e3', 'canonicalUrl': 'https://foursquare.com/v/the-distillery-historic-district/4ad4c05ef964a520bff620e3'}], 'attributes': {'groups': [{'type': 'price', 'name': 'Price', 'summary': '$$', 'count': 1, 'items': [{'displayName': 'Price', 'displayValue': '$$', 'priceTier': 2}]}, {'type': 'payments', 'name': 'Credit Cards', 'summary': 'Credit Cards', 'count': 5, 'items': [{'displayName': 'Credit Cards', 'displayValue': 'Yes (incl. American Express & MasterCard)'}]}]}, 'bestPhoto': {'id': '51857661498edeec0473db70', 'createdAt': 1367701089, 'source': {'name': 'Instagram', 'url': 'http://instagram.com'}, 'prefix': 'https://fastly.4sqi.net/img/general/', 'suffix': '/352320_2nPF3Wp_kvqrl76b3PKG1lRAweBCC-nqpOlsA9PfZt4.jpg', 'width': 612, 'height': 612, 'visibility': 'public'}, 'colors': {'highlightColor': {'photoId': '51857661498edeec0473db70', 'value': -14145496}, 'highlightTextColor': {'photoId': '51857661498edeec0473db70', 'value': -1}, 'algoVersion': 3}}]\n"
     ]
    }
   ],
   "source": [
    "vexplore = []\n",
    "for venue_id in venues_df_filt['id']:\n",
    "    result = searchfs.venue_explore(venue_id)\n",
    "    if result:\n",
    "        vexplore.append(result)\n",
    "\n",
    "print(vexplore)\n"
   ]
  },
  {
   "source": [
    "### rating and tips"
   ],
   "cell_type": "markdown",
   "metadata": {}
  },
  {
   "cell_type": "code",
   "execution_count": 18,
   "metadata": {
    "tags": []
   },
   "outputs": [
    {
     "output_type": "stream",
     "name": "stdout",
     "text": [
      "rating 0.0 tips 00 Ryan Restaurant  -  Ethiopian\nrating 0.0 tips 01 Site Of Great Canary Restaurant  -  Breakfast\nrating 0.0 tips 00 Weheliye Restaurant  -  African\nrating 7.5 tips 16 Morning Glory Cafe  -  Breakfast\nrating 0.0 tips 03 White Elephant  -  Thai\nrating 7.0 tips 15 Archeo  -  Italian\n"
     ]
    }
   ],
   "source": [
    "for v in vexplore:\n",
    "    if 'rating' in v:\n",
    "        rating = v['rating']\n",
    "    else:\n",
    "        v['rating'] = 0.0\n",
    "\n",
    "    print('rating', v['rating'], 'tips', str(v['tips']['count']).zfill(2), v['name'], ' - ', v['categories'][0]['shortName'])\n",
    "\n"
   ]
  },
  {
   "source": [
    "### Get tips from the best place"
   ],
   "cell_type": "markdown",
   "metadata": {}
  },
  {
   "cell_type": "code",
   "execution_count": 23,
   "metadata": {},
   "outputs": [
    {
     "output_type": "execute_result",
     "data": {
      "text/plain": [
       "'Morning Glory Cafe'"
      ]
     },
     "metadata": {},
     "execution_count": 23
    }
   ],
   "source": [
    "max_v_rating = max(v['rating'] for v in vexplore)\n",
    "best_place = [v for v in vexplore if (v['rating'] == max_v_rating)][0]\n",
    "print(best_place['name'])\n",
    "\n",
    "bp_tips = searchfs.venue_tips(best_place['id'])"
   ]
  },
  {
   "cell_type": "code",
   "execution_count": 22,
   "metadata": {},
   "outputs": [
    {
     "output_type": "execute_result",
     "data": {
      "text/plain": [
       "[{'id': '4ec0116c61af06192b615493',\n",
       "  'createdAt': 1321210220,\n",
       "  'text': 'One of the best breakfast/brunch places in the city. Affordable and good. My favourite is the Breakfast Butty. Try it...',\n",
       "  'type': 'user',\n",
       "  'canonicalUrl': 'https://foursquare.com/item/4ec0116c61af06192b615493',\n",
       "  'likes': {'count': 0, 'groups': []},\n",
       "  'like': False,\n",
       "  'logView': True,\n",
       "  'agreeCount': 1,\n",
       "  'disagreeCount': 0,\n",
       "  'todo': {'count': 0},\n",
       "  'user': {'id': '4001465',\n",
       "   'firstName': 'Jeremy',\n",
       "   'lastName': 'Heng',\n",
       "   'gender': 'male',\n",
       "   'countryCode': 'CA',\n",
       "   'photo': {'prefix': 'https://fastly.4sqi.net/img/user/',\n",
       "    'suffix': '/BSG5PQE3XHYQWXCJ.jpg'}}}]"
      ]
     },
     "metadata": {},
     "execution_count": 22
    }
   ],
   "source": [
    "bp_tips"
   ]
  },
  {
   "cell_type": "code",
   "execution_count": 20,
   "metadata": {},
   "outputs": [
    {
     "output_type": "execute_result",
     "data": {
      "text/plain": [
       "                                                text  agreeCount  \\\n",
       "0  One of the best breakfast/brunch places in the...           1   \n",
       "\n",
       "   disagreeCount                        id  \\\n",
       "0              0  4ec0116c61af06192b615493   \n",
       "\n",
       "                                                user  \n",
       "0  {'id': '4001465', 'firstName': 'Jeremy', 'last...  "
      ],
      "text/html": "<div>\n<style scoped>\n    .dataframe tbody tr th:only-of-type {\n        vertical-align: middle;\n    }\n\n    .dataframe tbody tr th {\n        vertical-align: top;\n    }\n\n    .dataframe thead th {\n        text-align: right;\n    }\n</style>\n<table border=\"1\" class=\"dataframe\">\n  <thead>\n    <tr style=\"text-align: right;\">\n      <th></th>\n      <th>text</th>\n      <th>agreeCount</th>\n      <th>disagreeCount</th>\n      <th>id</th>\n      <th>user</th>\n    </tr>\n  </thead>\n  <tbody>\n    <tr>\n      <th>0</th>\n      <td>One of the best breakfast/brunch places in the...</td>\n      <td>1</td>\n      <td>0</td>\n      <td>4ec0116c61af06192b615493</td>\n      <td>{'id': '4001465', 'firstName': 'Jeremy', 'last...</td>\n    </tr>\n  </tbody>\n</table>\n</div>"
     },
     "metadata": {},
     "execution_count": 20
    }
   ],
   "source": [
    "\n",
    "tips_df = pd.DataFrame(bp_tips)\n",
    "filtered_columns = ['text', 'agreeCount', 'disagreeCount', 'id', 'user']\n",
    "tips_filtered = tips_df.loc[:, filtered_columns]\n",
    "tips_filtered.head()"
   ]
  },
  {
   "cell_type": "code",
   "execution_count": 24,
   "metadata": {},
   "outputs": [
    {
     "output_type": "stream",
     "name": "stdout",
     "text": [
      "dict_keys(['id', 'createdAt', 'text', 'type', 'canonicalUrl', 'likes', 'like', 'logView', 'agreeCount', 'disagreeCount', 'todo', 'user'])\n-\n2011-11-13 15:50:20 One of the best breakfast/brunch places in the city. Affordable and good. My favourite is the Breakfast Butty. Try it...  -  Jeremy Heng\n"
     ]
    }
   ],
   "source": [
    "# returned only 1 tip (instead of 16)\n",
    "\n",
    "from datetime import datetime\n",
    "print(bp_tips[0].keys())\n",
    "print('-')\n",
    "cols = ['text', 'agreeCount', 'disagreeCount', 'id', 'user.firstName', 'user.lastName']\n",
    "for t in bp_tips:\n",
    "    print(datetime.fromtimestamp(t['createdAt']), t['text'], ' - ', t['user']['firstName'], t['user']['lastName'])\n",
    "    "
   ]
  },
  {
   "source": [
    "## user details"
   ],
   "cell_type": "markdown",
   "metadata": {}
  },
  {
   "cell_type": "code",
   "execution_count": 33,
   "metadata": {},
   "outputs": [
    {
     "output_type": "execute_result",
     "data": {
      "text/plain": [
       "{'id': '4001465',\n",
       " 'firstName': 'Jeremy',\n",
       " 'lastName': 'Heng',\n",
       " 'gender': 'male',\n",
       " 'countryCode': 'CA',\n",
       " 'canonicalUrl': 'https://foursquare.com/user/4001465',\n",
       " 'photo': {'prefix': 'https://fastly.4sqi.net/img/user/',\n",
       "  'suffix': '/BSG5PQE3XHYQWXCJ.jpg'},\n",
       " 'friends': {'count': 75,\n",
       "  'groups': [{'type': 'friends',\n",
       "    'name': 'Mutual friends',\n",
       "    'count': 0,\n",
       "    'items': []},\n",
       "   {'type': 'others',\n",
       "    'name': 'Other friends',\n",
       "    'count': 75,\n",
       "    'items': [{'id': '2275021',\n",
       "      'firstName': 'Evan',\n",
       "      'lastName': 'R.',\n",
       "      'gender': 'male',\n",
       "      'countryCode': 'US',\n",
       "      'photo': {'prefix': 'https://fastly.4sqi.net/img/user/',\n",
       "       'suffix': '/CI4GSGAW4J4JGNKO.jpg'},\n",
       "      'tips': {'count': 0},\n",
       "      'lists': {'groups': [{'type': 'created', 'count': 2, 'items': []}]},\n",
       "      'homeCity': 'New York, NY',\n",
       "      'bio': '',\n",
       "      'contact': {}},\n",
       "     {'id': '4782065',\n",
       "      'firstName': 'Boon',\n",
       "      'lastName': 'Poey Ling',\n",
       "      'gender': 'female',\n",
       "      'countryCode': 'MY',\n",
       "      'photo': {'prefix': 'https://fastly.4sqi.net/img/user/',\n",
       "       'suffix': '/JT43POTLZFHCIMH0.jpg'},\n",
       "      'tips': {'count': 0},\n",
       "      'lists': {'groups': [{'type': 'created', 'count': 2, 'items': []}]},\n",
       "      'homeCity': 'Ayer Itam, Malaysia',\n",
       "      'bio': '',\n",
       "      'contact': {}},\n",
       "     {'id': '77187145',\n",
       "      'firstName': 'Janathan',\n",
       "      'lastName': 'Jelian',\n",
       "      'gender': 'male',\n",
       "      'countryCode': 'MY',\n",
       "      'photo': {'prefix': 'https://fastly.4sqi.net/img/user/',\n",
       "       'suffix': '/77187145-3YXUCXFUQYNMM3AN.jpg'},\n",
       "      'tips': {'count': 2},\n",
       "      'lists': {'groups': [{'type': 'created', 'count': 2, 'items': []}]},\n",
       "      'homeCity': 'George Town, PNG',\n",
       "      'bio': '',\n",
       "      'contact': {'facebook': '547884598'}},\n",
       "     {'id': '65697590',\n",
       "      'firstName': 'Julian',\n",
       "      'lastName': 'T',\n",
       "      'gender': 'male',\n",
       "      'countryCode': 'CA',\n",
       "      'photo': {'prefix': 'https://fastly.4sqi.net/img/user/',\n",
       "       'suffix': '/AZ4Y23C1MOAF4VOU.jpg'},\n",
       "      'tips': {'count': 0},\n",
       "      'lists': {'groups': [{'type': 'created', 'count': 2, 'items': []}]},\n",
       "      'homeCity': 'Toronto, ON',\n",
       "      'bio': '',\n",
       "      'contact': {'facebook': '787170726'}},\n",
       "     {'id': '68816659',\n",
       "      'firstName': 'Chuan',\n",
       "      'lastName': 'Tan',\n",
       "      'gender': 'male',\n",
       "      'countryCode': 'MY',\n",
       "      'photo': {'prefix': 'https://fastly.4sqi.net/img/user/',\n",
       "       'suffix': '/GPN5QYUZGKT250DW.jpg'},\n",
       "      'tips': {'count': 0},\n",
       "      'lists': {'groups': [{'type': 'created', 'count': 2, 'items': []}]},\n",
       "      'homeCity': 'Kuala Lumpur, Malaysia',\n",
       "      'bio': '',\n",
       "      'contact': {'facebook': '826240566'}},\n",
       "     {'id': '56802891',\n",
       "      'firstName': 'Lisa',\n",
       "      'lastName': 'Leong',\n",
       "      'gender': 'female',\n",
       "      'countryCode': 'MY',\n",
       "      'photo': {'prefix': 'https://fastly.4sqi.net/img/user/',\n",
       "       'suffix': '/WC5DH1D1OZT2SALJ.jpg'},\n",
       "      'tips': {'count': 1},\n",
       "      'lists': {'groups': [{'type': 'created', 'count': 2, 'items': []}]},\n",
       "      'homeCity': 'Penang, Malaysia',\n",
       "      'bio': '',\n",
       "      'contact': {}},\n",
       "     {'id': '47347772',\n",
       "      'firstName': 'Samantha',\n",
       "      'lastName': 'GigglesGaghan',\n",
       "      'gender': 'female',\n",
       "      'countryCode': 'CA',\n",
       "      'photo': {'prefix': 'https://fastly.4sqi.net/img/user/',\n",
       "       'suffix': '/5VDXVXVUD5IJZP2B.jpg'},\n",
       "      'tips': {'count': 0},\n",
       "      'lists': {'groups': [{'type': 'created', 'count': 2, 'items': []}]},\n",
       "      'homeCity': 'Ontario',\n",
       "      'bio': '',\n",
       "      'contact': {'facebook': '522136083'}},\n",
       "     {'id': '52056552',\n",
       "      'firstName': 'Michael',\n",
       "      'lastName': 'Oo',\n",
       "      'gender': 'male',\n",
       "      'countryCode': 'AU',\n",
       "      'photo': {'prefix': 'https://fastly.4sqi.net/img/user/',\n",
       "       'suffix': '/MOC3CY2QBWG2ENCM.jpg'},\n",
       "      'tips': {'count': 1},\n",
       "      'lists': {'groups': [{'type': 'created', 'count': 2, 'items': []}]},\n",
       "      'homeCity': 'Toowoomba, Queensland',\n",
       "      'bio': '',\n",
       "      'contact': {'facebook': '565719541'}},\n",
       "     {'id': '46417804',\n",
       "      'firstName': 'Darren',\n",
       "      'lastName': 'Pang',\n",
       "      'gender': 'male',\n",
       "      'countryCode': 'MY',\n",
       "      'photo': {'prefix': 'https://fastly.4sqi.net/img/user/',\n",
       "       'suffix': '/Q30ANEPCZ2NX2T05.jpg'},\n",
       "      'tips': {'count': 0},\n",
       "      'lists': {'groups': [{'type': 'created', 'count': 2, 'items': []}]},\n",
       "      'homeCity': 'Selangor',\n",
       "      'bio': '',\n",
       "      'contact': {'facebook': '752936517'}},\n",
       "     {'id': '83653806',\n",
       "      'firstName': 'William',\n",
       "      'lastName': 'Yip',\n",
       "      'gender': 'male',\n",
       "      'countryCode': 'US',\n",
       "      'photo': {'prefix': 'https://fastly.4sqi.net/img/user/',\n",
       "       'suffix': '/blank_boy.png',\n",
       "       'default': True},\n",
       "      'tips': {'count': 0},\n",
       "      'lists': {'groups': [{'type': 'created', 'count': 2, 'items': []}]},\n",
       "      'homeCity': 'Brooklyn, NY',\n",
       "      'bio': '',\n",
       "      'contact': {'facebook': '47702931'}}]}]},\n",
       " 'tips': {'count': 2},\n",
       " 'homeCity': 'Toronto, Ontario',\n",
       " 'bio': '',\n",
       " 'contact': {'twitter': 'devilishonline', 'facebook': '729441802'},\n",
       " 'photos': {'count': 291,\n",
       "  'items': [{'id': '541f220f498e552311b4625a',\n",
       "    'createdAt': 1411326479,\n",
       "    'source': {'name': 'Swarm for Android', 'url': 'https://www.swarmapp.com'},\n",
       "    'prefix': 'https://fastly.4sqi.net/img/general/',\n",
       "    'suffix': '/4001465_LYQyFF_4tQkkH2x1IYrguabcadopwEsbnxebgT7ryss.jpg',\n",
       "    'width': 960,\n",
       "    'height': 720,\n",
       "    'visibility': 'public',\n",
       "    'venue': {'id': '4b2d12f8f964a520b9cd24e3',\n",
       "     'name': 'Zees Grill',\n",
       "     'location': {'address': '92 Picton St',\n",
       "      'crossStreet': 'at Wellington St',\n",
       "      'lat': 43.25316139739741,\n",
       "      'lng': -79.06819952410065,\n",
       "      'labeledLatLngs': [{'label': 'display',\n",
       "        'lat': 43.25316139739741,\n",
       "        'lng': -79.06819952410065}],\n",
       "      'postalCode': 'L0S 1J0',\n",
       "      'cc': 'CA',\n",
       "      'city': 'Niagara-on-the-Lake',\n",
       "      'state': 'ON',\n",
       "      'country': 'Canada',\n",
       "      'formattedAddress': ['92 Picton St (at Wellington St)',\n",
       "       'Niagara-on-the-Lake ON L0S 1J0',\n",
       "       'Canada']},\n",
       "     'categories': [{'id': '4bf58dd8d48988d1ce941735',\n",
       "       'name': 'Seafood Restaurant',\n",
       "       'pluralName': 'Seafood Restaurants',\n",
       "       'shortName': 'Seafood',\n",
       "       'icon': {'prefix': 'https://ss3.4sqi.net/img/categories_v2/food/seafood_',\n",
       "        'suffix': '.png'},\n",
       "       'primary': True}],\n",
       "     'like': False}}]},\n",
       " 'checkinPings': 'off',\n",
       " 'pings': False,\n",
       " 'type': 'user',\n",
       " 'mayorships': {'count': 0, 'items': []},\n",
       " 'checkins': {'count': 719, 'items': []},\n",
       " 'lists': {'count': 2,\n",
       "  'groups': [{'type': 'created', 'count': 0, 'items': []},\n",
       "   {'type': 'followed', 'count': 0, 'items': []},\n",
       "   {'type': 'yours',\n",
       "    'count': 2,\n",
       "    'items': [{'id': '4001465/todos',\n",
       "      'name': \"Jeremy's Saved Places\",\n",
       "      'description': '',\n",
       "      'type': 'todos',\n",
       "      'editable': False,\n",
       "      'public': True,\n",
       "      'collaborative': False,\n",
       "      'url': '/devilishonline/list/todos',\n",
       "      'canonicalUrl': 'https://foursquare.com/devilishonline/list/todos',\n",
       "      'listItems': {'count': 0}},\n",
       "     {'id': '4001465/venuelikes',\n",
       "      'name': 'Jeremy’s Liked Places',\n",
       "      'description': '',\n",
       "      'type': 'likes',\n",
       "      'editable': False,\n",
       "      'public': True,\n",
       "      'collaborative': False,\n",
       "      'url': '/devilishonline/list/venuelikes',\n",
       "      'canonicalUrl': 'https://foursquare.com/devilishonline/list/venuelikes',\n",
       "      'listItems': {'count': 0}}]}]},\n",
       " 'blockedStatus': 'none',\n",
       " 'lenses': []}"
      ]
     },
     "metadata": {},
     "execution_count": 33
    }
   ],
   "source": [
    "user_id = bp_tips[0]['user']['id']\n",
    "user = searchfs.user(user_id)\n",
    "user"
   ]
  },
  {
   "cell_type": "code",
   "execution_count": 43,
   "metadata": {},
   "outputs": [
    {
     "output_type": "stream",
     "name": "stdout",
     "text": [
      "dict_keys(['id', 'firstName', 'lastName', 'gender', 'countryCode', 'canonicalUrl', 'photo', 'friends', 'tips', 'homeCity', 'bio', 'contact', 'photos', 'checkinPings', 'pings', 'type', 'mayorships', 'checkins', 'lists', 'blockedStatus', 'lenses'])\nJeremy Heng male\n"
     ]
    }
   ],
   "source": [
    "pprint(user.keys())\n",
    "print(user['firstName'], user['lastName'], user['gender'])"
   ]
  },
  {
   "cell_type": "code",
   "execution_count": 47,
   "metadata": {},
   "outputs": [
    {
     "output_type": "execute_result",
     "data": {
      "text/html": "<img src=\"https://fastly.4sqi.net/img/user/540x920/BSG5PQE3XHYQWXCJ.jpg\"/>",
      "text/plain": [
       "<IPython.core.display.Image object>"
      ]
     },
     "metadata": {},
     "execution_count": 47
    }
   ],
   "source": [
    "from IPython.display import Image \n",
    "#from IPython.core.display import HTML \n",
    "imgsrc = '{}540x920{}'.format(user['photo']['prefix'], user['photo']['suffix'])\n",
    "Image(url=imgsrc)"
   ]
  },
  {
   "cell_type": "code",
   "execution_count": 65,
   "metadata": {},
   "outputs": [
    {
     "output_type": "execute_result",
     "data": {
      "text/plain": [
       "[{'id': '4ec0116c61af06192b615493',\n",
       "  'createdAt': 1321210220,\n",
       "  'text': 'One of the best breakfast/brunch places in the city. Affordable and good. My favourite is the Breakfast Butty. Try it...',\n",
       "  'type': 'user',\n",
       "  'canonicalUrl': 'https://foursquare.com/item/4ec0116c61af06192b615493',\n",
       "  'likes': {'count': 0, 'groups': []},\n",
       "  'like': False,\n",
       "  'logView': True,\n",
       "  'agreeCount': 1,\n",
       "  'disagreeCount': 0,\n",
       "  'todo': {'count': 0},\n",
       "  'venue': {'id': '4ae5b91ff964a520a6a121e3',\n",
       "   'name': 'Morning Glory Cafe',\n",
       "   'location': {'address': '457 King St. E',\n",
       "    'crossStreet': 'Gilead Place',\n",
       "    'lat': 43.653946942635294,\n",
       "    'lng': -79.36114884214422,\n",
       "    'labeledLatLngs': [{'label': 'display',\n",
       "      'lat': 43.653946942635294,\n",
       "      'lng': -79.36114884214422}],\n",
       "    'postalCode': 'M5A 1L6',\n",
       "    'cc': 'CA',\n",
       "    'city': 'Toronto',\n",
       "    'state': 'ON',\n",
       "    'country': 'Canada',\n",
       "    'formattedAddress': ['457 King St. E (Gilead Place)',\n",
       "     'Toronto ON M5A 1L6',\n",
       "     'Canada']},\n",
       "   'categories': [{'id': '4bf58dd8d48988d143941735',\n",
       "     'name': 'Breakfast Spot',\n",
       "     'pluralName': 'Breakfast Spots',\n",
       "     'shortName': 'Breakfast',\n",
       "     'icon': {'prefix': 'https://ss3.4sqi.net/img/categories_v2/food/breakfast_',\n",
       "      'suffix': '.png'},\n",
       "     'primary': True}],\n",
       "   'photos': {'count': 0,\n",
       "    'groups': [{'type': 'venue',\n",
       "      'name': 'Venue photos',\n",
       "      'count': 0,\n",
       "      'items': [{'id': '4fb144b8e4b0a5d4c19212b1',\n",
       "        'createdAt': 1337017528,\n",
       "        'prefix': 'https://fastly.4sqi.net/img/general/',\n",
       "        'suffix': '/4VHwvE8cjZfvf8Gsb_unQVMibvPDEwNkX0aPb0LhpQw.jpg',\n",
       "        'width': 720,\n",
       "        'height': 540,\n",
       "        'user': {'id': '574142',\n",
       "         'firstName': 'Richard',\n",
       "         'lastName': 'Renaud',\n",
       "         'gender': 'male',\n",
       "         'countryCode': 'CA',\n",
       "         'photo': {'prefix': 'https://fastly.4sqi.net/img/user/',\n",
       "          'suffix': '/574142-XSEIPXOU2GWCBDNQ.jpg'}},\n",
       "        'visibility': 'public'},\n",
       "       {'id': '50abc086e4b0319a10bcdaa2',\n",
       "        'createdAt': 1353433222,\n",
       "        'prefix': 'https://fastly.4sqi.net/img/general/',\n",
       "        'suffix': '/28459163_1BA_1OSqMr6IWCp50xMb5GujN6p09ZJiO0JEbCCeh1U.jpg',\n",
       "        'width': 720,\n",
       "        'height': 537,\n",
       "        'user': {'id': '28459163',\n",
       "         'firstName': 'Marco',\n",
       "         'lastName': 'Petkovski',\n",
       "         'gender': 'male',\n",
       "         'countryCode': 'CA',\n",
       "         'photo': {'prefix': 'https://fastly.4sqi.net/img/user/',\n",
       "          'suffix': '/YYPLXZNQFUEFM5IP.jpg'}},\n",
       "        'visibility': 'public'},\n",
       "       {'id': '511cf227e4b03ef2322d2d3c',\n",
       "        'createdAt': 1360851495,\n",
       "        'prefix': 'https://fastly.4sqi.net/img/general/',\n",
       "        'suffix': '/46957934_1YFJSO4x30GjFeANcu6T44eEBvdiwHAmj88H8-PTi4I.jpg',\n",
       "        'width': 717,\n",
       "        'height': 959,\n",
       "        'user': {'id': '46957934',\n",
       "         'firstName': 'Andrew',\n",
       "         'lastName': 'Carlyle',\n",
       "         'gender': 'male',\n",
       "         'countryCode': 'CA',\n",
       "         'photo': {'prefix': 'https://fastly.4sqi.net/img/user/',\n",
       "          'suffix': '/1B1X1ZXBE23ZP2B0.jpg'}},\n",
       "        'visibility': 'public'}]}]},\n",
       "   'venuePage': {'id': '39686393'}}},\n",
       " {'id': '4dacaa9c1e72c4e8dcacbbc1',\n",
       "  'createdAt': 1303161500,\n",
       "  'text': \"Don't attempt to buy tickets here on a Monday\",\n",
       "  'type': 'user',\n",
       "  'canonicalUrl': 'https://foursquare.com/item/4dacaa9c1e72c4e8dcacbbc1',\n",
       "  'likes': {'count': 2,\n",
       "   'groups': [{'type': 'others', 'count': 2, 'items': []}],\n",
       "   'summary': '2 likes'},\n",
       "  'like': False,\n",
       "  'logView': True,\n",
       "  'agreeCount': 0,\n",
       "  'disagreeCount': 0,\n",
       "  'todo': {'count': 0},\n",
       "  'venue': {'id': '4bfc45011be376b00467f8b4',\n",
       "   'name': 'TO TIX',\n",
       "   'location': {'address': '1 Dundas St E',\n",
       "    'crossStreet': 'Yonge St',\n",
       "    'lat': 43.6560869115558,\n",
       "    'lng': -79.38035999745318,\n",
       "    'labeledLatLngs': [{'label': 'display',\n",
       "      'lat': 43.6560869115558,\n",
       "      'lng': -79.38035999745318}],\n",
       "    'cc': 'CA',\n",
       "    'city': 'Toronto',\n",
       "    'state': 'ON',\n",
       "    'country': 'Canada',\n",
       "    'formattedAddress': ['1 Dundas St E (Yonge St)', 'Toronto ON', 'Canada']},\n",
       "   'categories': [{'id': '4bf58dd8d48988d1f2931735',\n",
       "     'name': 'Performing Arts Venue',\n",
       "     'pluralName': 'Performing Arts Venues',\n",
       "     'shortName': 'Performing Arts',\n",
       "     'icon': {'prefix': 'https://ss3.4sqi.net/img/categories_v2/arts_entertainment/performingarts_',\n",
       "      'suffix': '.png'},\n",
       "     'primary': True}],\n",
       "   'photos': {'count': 0,\n",
       "    'groups': [{'type': 'venue',\n",
       "      'name': 'Venue photos',\n",
       "      'count': 0,\n",
       "      'items': [{'id': '519f9857498e36d8875989a1',\n",
       "        'createdAt': 1369413719,\n",
       "        'prefix': 'https://fastly.4sqi.net/img/general/',\n",
       "        'suffix': '/57059165__IiP6XQH3Vn19RIpn_BqSE0chcOxuju7EyRpfqYpO1Y.jpg',\n",
       "        'width': 720,\n",
       "        'height': 960,\n",
       "        'user': {'id': '57059165',\n",
       "         'firstName': 'Jenny',\n",
       "         'lastName': 'Yang',\n",
       "         'gender': 'female',\n",
       "         'countryCode': 'CA',\n",
       "         'photo': {'prefix': 'https://fastly.4sqi.net/img/user/',\n",
       "          'suffix': '/57059165-4F1BKOUH4DJPPIV1.jpg'}},\n",
       "        'visibility': 'public'},\n",
       "       {'id': '4fa40394e4b0bbcd48d8e848',\n",
       "        'createdAt': 1336148884,\n",
       "        'prefix': 'https://fastly.4sqi.net/img/general/',\n",
       "        'suffix': '/f5hyGb7Qr1e8RsmvPId8F7RvZnsr21ll4Y4HKu4T1aM.jpg',\n",
       "        'width': 720,\n",
       "        'height': 720,\n",
       "        'user': {'id': '5505425',\n",
       "         'firstName': 'chubbstar',\n",
       "         'gender': 'male',\n",
       "         'countryCode': 'CA',\n",
       "         'photo': {'prefix': 'https://fastly.4sqi.net/img/user/',\n",
       "          'suffix': '/Z0BOQNUCEDLIBECQ.jpg'}},\n",
       "        'visibility': 'public'},\n",
       "       {'id': '4f32cf98e4b057434deddded',\n",
       "        'createdAt': 1328730008,\n",
       "        'prefix': 'https://fastly.4sqi.net/img/general/',\n",
       "        'suffix': '/vDW94Ab6tlJe5V7ATa9OiiD5lHet4Dy0GXE5EHz7vyk.jpg',\n",
       "        'width': 720,\n",
       "        'height': 406,\n",
       "        'user': {'id': '5505425',\n",
       "         'firstName': 'chubbstar',\n",
       "         'gender': 'male',\n",
       "         'countryCode': 'CA',\n",
       "         'photo': {'prefix': 'https://fastly.4sqi.net/img/user/',\n",
       "          'suffix': '/Z0BOQNUCEDLIBECQ.jpg'}},\n",
       "        'visibility': 'public'}]}]}}}]"
      ]
     },
     "metadata": {},
     "execution_count": 65
    }
   ],
   "source": [
    "usertips = searchfs.user_tips(user_id)\n",
    "usertips"
   ]
  },
  {
   "cell_type": "code",
   "execution_count": 86,
   "metadata": {},
   "outputs": [
    {
     "output_type": "execute_result",
     "data": {
      "text/plain": [
       "                         id  \\\n",
       "0  4ec0116c61af06192b615493   \n",
       "1  4dacaa9c1e72c4e8dcacbbc1   \n",
       "\n",
       "                                                text  agreeCount  \\\n",
       "0  One of the best breakfast/brunch places in the...           1   \n",
       "1      Don't attempt to buy tickets here on a Monday           0   \n",
       "\n",
       "   disagreeCount           venuename  \n",
       "0              0  Morning Glory Cafe  \n",
       "1              0              TO TIX  "
      ],
      "text/html": "<div>\n<style scoped>\n    .dataframe tbody tr th:only-of-type {\n        vertical-align: middle;\n    }\n\n    .dataframe tbody tr th {\n        vertical-align: top;\n    }\n\n    .dataframe thead th {\n        text-align: right;\n    }\n</style>\n<table border=\"1\" class=\"dataframe\">\n  <thead>\n    <tr style=\"text-align: right;\">\n      <th></th>\n      <th>id</th>\n      <th>text</th>\n      <th>agreeCount</th>\n      <th>disagreeCount</th>\n      <th>venuename</th>\n    </tr>\n  </thead>\n  <tbody>\n    <tr>\n      <th>0</th>\n      <td>4ec0116c61af06192b615493</td>\n      <td>One of the best breakfast/brunch places in the...</td>\n      <td>1</td>\n      <td>0</td>\n      <td>Morning Glory Cafe</td>\n    </tr>\n    <tr>\n      <th>1</th>\n      <td>4dacaa9c1e72c4e8dcacbbc1</td>\n      <td>Don't attempt to buy tickets here on a Monday</td>\n      <td>0</td>\n      <td>0</td>\n      <td>TO TIX</td>\n    </tr>\n  </tbody>\n</table>\n</div>"
     },
     "metadata": {},
     "execution_count": 86
    }
   ],
   "source": [
    "usertips_df = pd.DataFrame(usertips)\n",
    "usertips_df['venuename'] = [v['name'] for v in usertips_df.venue]\n",
    "usertips_df[['id', 'text', 'agreeCount', 'disagreeCount', 'venuename']]\n"
   ]
  },
  {
   "source": [
    "## Let's explore another area"
   ],
   "cell_type": "markdown",
   "metadata": {}
  },
  {
   "cell_type": "code",
   "execution_count": 152,
   "metadata": {},
   "outputs": [
    {
     "output_type": "stream",
     "name": "stdout",
     "text": [
      "  PostalCode     Borough     Neighborhood   Latitude  Longitude\n7        M3B  North York  Don Mills North  43.745906 -79.352188\n"
     ]
    }
   ],
   "source": [
    "location = df3.iloc[[7]]\n",
    "print(location)\n",
    "explore = searchfs.location_explore(float(location['Latitude']), float(location['Longitude']))\n"
   ]
  },
  {
   "cell_type": "code",
   "execution_count": 158,
   "metadata": {},
   "outputs": [
    {
     "output_type": "execute_result",
     "data": {
      "text/plain": [
       "                     name            categories                     address  \\\n",
       "0            Island Foods  Caribbean Restaurant          1310 Don Mills Rd.   \n",
       "1           Baretto Caffé                  Café           1262 Don Mills Rd   \n",
       "2              LA Fitness                   Gym         1380 Don Mills Road   \n",
       "3             Gonoe Sushi   Japanese Restaurant   1310 Don Mills Rd, Unit 1   \n",
       "4               Bond Park        Baseball Field                         NaN   \n",
       "5  Elite Basketball Camps    Athletics & Sports         B-20 Scarsdale Road   \n",
       "6        Wooffles & Cream          Dessert Shop  A212 - 1390 Don Mills Road   \n",
       "\n",
       "         lat        lng                                     labeledLatLngs  \\\n",
       "0  43.745866 -79.346035  [{'label': 'display', 'lat': 43.74586607398898...   \n",
       "1  43.744456 -79.346460  [{'label': 'display', 'lat': 43.74445646349851...   \n",
       "2  43.747665 -79.347077  [{'label': 'display', 'lat': 43.74766522888878...   \n",
       "3  43.745737 -79.345991  [{'label': 'display', 'lat': 43.74573681959921...   \n",
       "4  43.745374 -79.351245  [{'label': 'display', 'lat': 43.74537356928136...   \n",
       "5  43.748790 -79.354228  [{'label': 'display', 'lat': 43.748789728, 'ln...   \n",
       "6  43.748159 -79.348235  [{'label': 'display', 'lat': 43.748159, 'lng':...   \n",
       "\n",
       "   distance  cc     city state country  \\\n",
       "0       494  CA  Toronto    ON  Canada   \n",
       "1       488  CA  Toronto    ON  Canada   \n",
       "2       455  CA  Toronto    ON  Canada   \n",
       "3       498  CA  Toronto    ON  Canada   \n",
       "4        96  CA  Toronto    ON  Canada   \n",
       "5       360  CA  Toronto    ON  Canada   \n",
       "6       404  CA  Toronto    ON  Canada   \n",
       "\n",
       "                                    formattedAddress  \\\n",
       "0           [1310 Don Mills Rd., Toronto ON, Canada]   \n",
       "1            [1262 Don Mills Rd, Toronto ON, Canada]   \n",
       "2  [1380 Don Mills Road (Mallard Rd), Toronto ON ...   \n",
       "3  [1310 Don Mills Rd, Unit 1 (at Bond Ave.), Tor...   \n",
       "4                               [Toronto ON, Canada]   \n",
       "5  [B-20 Scarsdale Road, Toronto ON M3B 2R2, Canada]   \n",
       "6  [A212 - 1390 Don Mills Road (Leslie Street), T...   \n",
       "\n",
       "                 crossStreet postalCode             neighborhood  \\\n",
       "0                        NaN        NaN                      NaN   \n",
       "1                        NaN        NaN                      NaN   \n",
       "2                 Mallard Rd    M3B 2X2                      NaN   \n",
       "3               at Bond Ave.    M3B 2W6                      NaN   \n",
       "4  Bond Ave. & Scarsdale Rd.        NaN                      NaN   \n",
       "5                        NaN    M3B 2R2                      NaN   \n",
       "6              Leslie Street    M3B 3N1  Sunnybrook - York Mills   \n",
       "\n",
       "                         id  \n",
       "0  4b0aed06f964a520202a23e3  \n",
       "1  50c3ae15e4b08c3b596c6069  \n",
       "2  4c18e819d4d9c9284e19f029  \n",
       "3  4b639286f964a5203c842ae3  \n",
       "4  4bf97f505ec320a18a598ad3  \n",
       "5  57e7d6bd498e0d78f21a4169  \n",
       "6  5f566cd8e9fe7c29dc6e7b13  "
      ],
      "text/html": "<div>\n<style scoped>\n    .dataframe tbody tr th:only-of-type {\n        vertical-align: middle;\n    }\n\n    .dataframe tbody tr th {\n        vertical-align: top;\n    }\n\n    .dataframe thead th {\n        text-align: right;\n    }\n</style>\n<table border=\"1\" class=\"dataframe\">\n  <thead>\n    <tr style=\"text-align: right;\">\n      <th></th>\n      <th>name</th>\n      <th>categories</th>\n      <th>address</th>\n      <th>lat</th>\n      <th>lng</th>\n      <th>labeledLatLngs</th>\n      <th>distance</th>\n      <th>cc</th>\n      <th>city</th>\n      <th>state</th>\n      <th>country</th>\n      <th>formattedAddress</th>\n      <th>crossStreet</th>\n      <th>postalCode</th>\n      <th>neighborhood</th>\n      <th>id</th>\n    </tr>\n  </thead>\n  <tbody>\n    <tr>\n      <th>0</th>\n      <td>Island Foods</td>\n      <td>Caribbean Restaurant</td>\n      <td>1310 Don Mills Rd.</td>\n      <td>43.745866</td>\n      <td>-79.346035</td>\n      <td>[{'label': 'display', 'lat': 43.74586607398898...</td>\n      <td>494</td>\n      <td>CA</td>\n      <td>Toronto</td>\n      <td>ON</td>\n      <td>Canada</td>\n      <td>[1310 Don Mills Rd., Toronto ON, Canada]</td>\n      <td>NaN</td>\n      <td>NaN</td>\n      <td>NaN</td>\n      <td>4b0aed06f964a520202a23e3</td>\n    </tr>\n    <tr>\n      <th>1</th>\n      <td>Baretto Caffé</td>\n      <td>Café</td>\n      <td>1262 Don Mills Rd</td>\n      <td>43.744456</td>\n      <td>-79.346460</td>\n      <td>[{'label': 'display', 'lat': 43.74445646349851...</td>\n      <td>488</td>\n      <td>CA</td>\n      <td>Toronto</td>\n      <td>ON</td>\n      <td>Canada</td>\n      <td>[1262 Don Mills Rd, Toronto ON, Canada]</td>\n      <td>NaN</td>\n      <td>NaN</td>\n      <td>NaN</td>\n      <td>50c3ae15e4b08c3b596c6069</td>\n    </tr>\n    <tr>\n      <th>2</th>\n      <td>LA Fitness</td>\n      <td>Gym</td>\n      <td>1380 Don Mills Road</td>\n      <td>43.747665</td>\n      <td>-79.347077</td>\n      <td>[{'label': 'display', 'lat': 43.74766522888878...</td>\n      <td>455</td>\n      <td>CA</td>\n      <td>Toronto</td>\n      <td>ON</td>\n      <td>Canada</td>\n      <td>[1380 Don Mills Road (Mallard Rd), Toronto ON ...</td>\n      <td>Mallard Rd</td>\n      <td>M3B 2X2</td>\n      <td>NaN</td>\n      <td>4c18e819d4d9c9284e19f029</td>\n    </tr>\n    <tr>\n      <th>3</th>\n      <td>Gonoe Sushi</td>\n      <td>Japanese Restaurant</td>\n      <td>1310 Don Mills Rd, Unit 1</td>\n      <td>43.745737</td>\n      <td>-79.345991</td>\n      <td>[{'label': 'display', 'lat': 43.74573681959921...</td>\n      <td>498</td>\n      <td>CA</td>\n      <td>Toronto</td>\n      <td>ON</td>\n      <td>Canada</td>\n      <td>[1310 Don Mills Rd, Unit 1 (at Bond Ave.), Tor...</td>\n      <td>at Bond Ave.</td>\n      <td>M3B 2W6</td>\n      <td>NaN</td>\n      <td>4b639286f964a5203c842ae3</td>\n    </tr>\n    <tr>\n      <th>4</th>\n      <td>Bond Park</td>\n      <td>Baseball Field</td>\n      <td>NaN</td>\n      <td>43.745374</td>\n      <td>-79.351245</td>\n      <td>[{'label': 'display', 'lat': 43.74537356928136...</td>\n      <td>96</td>\n      <td>CA</td>\n      <td>Toronto</td>\n      <td>ON</td>\n      <td>Canada</td>\n      <td>[Toronto ON, Canada]</td>\n      <td>Bond Ave. &amp; Scarsdale Rd.</td>\n      <td>NaN</td>\n      <td>NaN</td>\n      <td>4bf97f505ec320a18a598ad3</td>\n    </tr>\n    <tr>\n      <th>5</th>\n      <td>Elite Basketball Camps</td>\n      <td>Athletics &amp; Sports</td>\n      <td>B-20 Scarsdale Road</td>\n      <td>43.748790</td>\n      <td>-79.354228</td>\n      <td>[{'label': 'display', 'lat': 43.748789728, 'ln...</td>\n      <td>360</td>\n      <td>CA</td>\n      <td>Toronto</td>\n      <td>ON</td>\n      <td>Canada</td>\n      <td>[B-20 Scarsdale Road, Toronto ON M3B 2R2, Canada]</td>\n      <td>NaN</td>\n      <td>M3B 2R2</td>\n      <td>NaN</td>\n      <td>57e7d6bd498e0d78f21a4169</td>\n    </tr>\n    <tr>\n      <th>6</th>\n      <td>Wooffles &amp; Cream</td>\n      <td>Dessert Shop</td>\n      <td>A212 - 1390 Don Mills Road</td>\n      <td>43.748159</td>\n      <td>-79.348235</td>\n      <td>[{'label': 'display', 'lat': 43.748159, 'lng':...</td>\n      <td>404</td>\n      <td>CA</td>\n      <td>Toronto</td>\n      <td>ON</td>\n      <td>Canada</td>\n      <td>[A212 - 1390 Don Mills Road (Leslie Street), T...</td>\n      <td>Leslie Street</td>\n      <td>M3B 3N1</td>\n      <td>Sunnybrook - York Mills</td>\n      <td>5f566cd8e9fe7c29dc6e7b13</td>\n    </tr>\n  </tbody>\n</table>\n</div>"
     },
     "metadata": {},
     "execution_count": 158
    }
   ],
   "source": [
    "dataframe = pd.json_normalize(explore)\n",
    "# filter columns\n",
    "filtered_columns = ['venue.name', 'venue.categories'] + [col for col in dataframe.columns if col.startswith('venue.location.')] + ['venue.id']\n",
    "dataframe_filtered = dataframe.loc[:, filtered_columns]\n",
    "\n",
    "# filter the category for each row\n",
    "dataframe_filtered['venue.categories'] = dataframe_filtered.apply(get_category_type, axis=1)\n",
    "\n",
    "# clean columns\n",
    "dataframe_filtered.columns = [col.split('.')[-1] for col in dataframe_filtered.columns]\n",
    "\n",
    "dataframe_filtered.head(10)"
   ]
  },
  {
   "cell_type": "code",
   "execution_count": 159,
   "metadata": {},
   "outputs": [
    {
     "output_type": "execute_result",
     "data": {
      "text/plain": [
       "<folium.folium.Map at 0x7f7e0e287d60>"
      ],
      "text/html": "<div style=\"width:100%;\"><div style=\"position:relative;width:100%;height:0;padding-bottom:60%;\"><span style=\"color:#565656\">Make this Notebook Trusted to load map: File -> Trust Notebook</span><iframe src=\"about:blank\" style=\"position:absolute;width:100%;height:100%;left:0;top:0;border:none !important;\" data-html=%3C%21DOCTYPE%20html%3E%0A%3Chead%3E%20%20%20%20%0A%20%20%20%20%3Cmeta%20http-equiv%3D%22content-type%22%20content%3D%22text/html%3B%20charset%3DUTF-8%22%20/%3E%0A%20%20%20%20%3Cscript%3EL_PREFER_CANVAS%20%3D%20false%3B%20L_NO_TOUCH%20%3D%20false%3B%20L_DISABLE_3D%20%3D%20false%3B%3C/script%3E%0A%20%20%20%20%3Cscript%20src%3D%22https%3A//cdn.jsdelivr.net/npm/leaflet%401.2.0/dist/leaflet.js%22%3E%3C/script%3E%0A%20%20%20%20%3Cscript%20src%3D%22https%3A//ajax.googleapis.com/ajax/libs/jquery/1.11.1/jquery.min.js%22%3E%3C/script%3E%0A%20%20%20%20%3Cscript%20src%3D%22https%3A//maxcdn.bootstrapcdn.com/bootstrap/3.2.0/js/bootstrap.min.js%22%3E%3C/script%3E%0A%20%20%20%20%3Cscript%20src%3D%22https%3A//cdnjs.cloudflare.com/ajax/libs/Leaflet.awesome-markers/2.0.2/leaflet.awesome-markers.js%22%3E%3C/script%3E%0A%20%20%20%20%3Clink%20rel%3D%22stylesheet%22%20href%3D%22https%3A//cdn.jsdelivr.net/npm/leaflet%401.2.0/dist/leaflet.css%22/%3E%0A%20%20%20%20%3Clink%20rel%3D%22stylesheet%22%20href%3D%22https%3A//maxcdn.bootstrapcdn.com/bootstrap/3.2.0/css/bootstrap.min.css%22/%3E%0A%20%20%20%20%3Clink%20rel%3D%22stylesheet%22%20href%3D%22https%3A//maxcdn.bootstrapcdn.com/bootstrap/3.2.0/css/bootstrap-theme.min.css%22/%3E%0A%20%20%20%20%3Clink%20rel%3D%22stylesheet%22%20href%3D%22https%3A//maxcdn.bootstrapcdn.com/font-awesome/4.6.3/css/font-awesome.min.css%22/%3E%0A%20%20%20%20%3Clink%20rel%3D%22stylesheet%22%20href%3D%22https%3A//cdnjs.cloudflare.com/ajax/libs/Leaflet.awesome-markers/2.0.2/leaflet.awesome-markers.css%22/%3E%0A%20%20%20%20%3Clink%20rel%3D%22stylesheet%22%20href%3D%22https%3A//rawgit.com/python-visualization/folium/master/folium/templates/leaflet.awesome.rotate.css%22/%3E%0A%20%20%20%20%3Cstyle%3Ehtml%2C%20body%20%7Bwidth%3A%20100%25%3Bheight%3A%20100%25%3Bmargin%3A%200%3Bpadding%3A%200%3B%7D%3C/style%3E%0A%20%20%20%20%3Cstyle%3E%23map%20%7Bposition%3Aabsolute%3Btop%3A0%3Bbottom%3A0%3Bright%3A0%3Bleft%3A0%3B%7D%3C/style%3E%0A%20%20%20%20%0A%20%20%20%20%20%20%20%20%20%20%20%20%3Cstyle%3E%20%23map_4064621eade14997985a4e3814818433%20%7B%0A%20%20%20%20%20%20%20%20%20%20%20%20%20%20%20%20position%20%3A%20relative%3B%0A%20%20%20%20%20%20%20%20%20%20%20%20%20%20%20%20width%20%3A%20100.0%25%3B%0A%20%20%20%20%20%20%20%20%20%20%20%20%20%20%20%20height%3A%20100.0%25%3B%0A%20%20%20%20%20%20%20%20%20%20%20%20%20%20%20%20left%3A%200.0%25%3B%0A%20%20%20%20%20%20%20%20%20%20%20%20%20%20%20%20top%3A%200.0%25%3B%0A%20%20%20%20%20%20%20%20%20%20%20%20%20%20%20%20%7D%0A%20%20%20%20%20%20%20%20%20%20%20%20%3C/style%3E%0A%20%20%20%20%20%20%20%20%0A%3C/head%3E%0A%3Cbody%3E%20%20%20%20%0A%20%20%20%20%0A%20%20%20%20%20%20%20%20%20%20%20%20%3Cdiv%20class%3D%22folium-map%22%20id%3D%22map_4064621eade14997985a4e3814818433%22%20%3E%3C/div%3E%0A%20%20%20%20%20%20%20%20%0A%3C/body%3E%0A%3Cscript%3E%20%20%20%20%0A%20%20%20%20%0A%0A%20%20%20%20%20%20%20%20%20%20%20%20%0A%20%20%20%20%20%20%20%20%20%20%20%20%20%20%20%20var%20bounds%20%3D%20null%3B%0A%20%20%20%20%20%20%20%20%20%20%20%20%0A%0A%20%20%20%20%20%20%20%20%20%20%20%20var%20map_4064621eade14997985a4e3814818433%20%3D%20L.map%28%0A%20%20%20%20%20%20%20%20%20%20%20%20%20%20%20%20%20%20%20%20%20%20%20%20%20%20%20%20%20%20%20%20%20%20%27map_4064621eade14997985a4e3814818433%27%2C%0A%20%20%20%20%20%20%20%20%20%20%20%20%20%20%20%20%20%20%20%20%20%20%20%20%20%20%20%20%20%20%20%20%20%20%7Bcenter%3A%20%5B43.745905799999996%2C-79.352188%5D%2C%0A%20%20%20%20%20%20%20%20%20%20%20%20%20%20%20%20%20%20%20%20%20%20%20%20%20%20%20%20%20%20%20%20%20%20zoom%3A%2015%2C%0A%20%20%20%20%20%20%20%20%20%20%20%20%20%20%20%20%20%20%20%20%20%20%20%20%20%20%20%20%20%20%20%20%20%20maxBounds%3A%20bounds%2C%0A%20%20%20%20%20%20%20%20%20%20%20%20%20%20%20%20%20%20%20%20%20%20%20%20%20%20%20%20%20%20%20%20%20%20layers%3A%20%5B%5D%2C%0A%20%20%20%20%20%20%20%20%20%20%20%20%20%20%20%20%20%20%20%20%20%20%20%20%20%20%20%20%20%20%20%20%20%20worldCopyJump%3A%20false%2C%0A%20%20%20%20%20%20%20%20%20%20%20%20%20%20%20%20%20%20%20%20%20%20%20%20%20%20%20%20%20%20%20%20%20%20crs%3A%20L.CRS.EPSG3857%0A%20%20%20%20%20%20%20%20%20%20%20%20%20%20%20%20%20%20%20%20%20%20%20%20%20%20%20%20%20%20%20%20%20%7D%29%3B%0A%20%20%20%20%20%20%20%20%20%20%20%20%0A%20%20%20%20%20%20%20%20%0A%20%20%20%20%0A%20%20%20%20%20%20%20%20%20%20%20%20var%20tile_layer_7c4356ed512544189ace219454fa904c%20%3D%20L.tileLayer%28%0A%20%20%20%20%20%20%20%20%20%20%20%20%20%20%20%20%27https%3A//%7Bs%7D.tile.openstreetmap.org/%7Bz%7D/%7Bx%7D/%7By%7D.png%27%2C%0A%20%20%20%20%20%20%20%20%20%20%20%20%20%20%20%20%7B%0A%20%20%22attribution%22%3A%20null%2C%0A%20%20%22detectRetina%22%3A%20false%2C%0A%20%20%22maxZoom%22%3A%2018%2C%0A%20%20%22minZoom%22%3A%201%2C%0A%20%20%22noWrap%22%3A%20false%2C%0A%20%20%22subdomains%22%3A%20%22abc%22%0A%7D%0A%20%20%20%20%20%20%20%20%20%20%20%20%20%20%20%20%29.addTo%28map_4064621eade14997985a4e3814818433%29%3B%0A%20%20%20%20%20%20%20%20%0A%20%20%20%20%0A%20%20%20%20%20%20%20%20%20%20%20%20var%20circle_marker_d84f47a25054474c8941abb7461957e8%20%3D%20L.circleMarker%28%0A%20%20%20%20%20%20%20%20%20%20%20%20%20%20%20%20%5B43.745905799999996%2C-79.352188%5D%2C%0A%20%20%20%20%20%20%20%20%20%20%20%20%20%20%20%20%7B%0A%20%20%22bubblingMouseEvents%22%3A%20true%2C%0A%20%20%22color%22%3A%20%22red%22%2C%0A%20%20%22dashArray%22%3A%20null%2C%0A%20%20%22dashOffset%22%3A%20null%2C%0A%20%20%22fill%22%3A%20true%2C%0A%20%20%22fillColor%22%3A%20%22red%22%2C%0A%20%20%22fillOpacity%22%3A%200.6%2C%0A%20%20%22fillRule%22%3A%20%22evenodd%22%2C%0A%20%20%22lineCap%22%3A%20%22round%22%2C%0A%20%20%22lineJoin%22%3A%20%22round%22%2C%0A%20%20%22opacity%22%3A%201.0%2C%0A%20%20%22radius%22%3A%2010%2C%0A%20%20%22stroke%22%3A%20true%2C%0A%20%20%22weight%22%3A%203%0A%7D%0A%20%20%20%20%20%20%20%20%20%20%20%20%20%20%20%20%29.addTo%28map_4064621eade14997985a4e3814818433%29%3B%0A%20%20%20%20%20%20%20%20%20%20%20%20%0A%20%20%20%20%0A%20%20%20%20%20%20%20%20%20%20%20%20var%20popup_a784bff1d53845d08fb01626258521c8%20%3D%20L.popup%28%7BmaxWidth%3A%20%27300%27%7D%29%3B%0A%0A%20%20%20%20%20%20%20%20%20%20%20%20%0A%20%20%20%20%20%20%20%20%20%20%20%20%20%20%20%20var%20html_91dfc572ded04a038a5f61ced4b37125%20%3D%20%24%28%27%3Cdiv%20id%3D%22html_91dfc572ded04a038a5f61ced4b37125%22%20style%3D%22width%3A%20100.0%25%3B%20height%3A%20100.0%25%3B%22%3EEcco%3C/div%3E%27%29%5B0%5D%3B%0A%20%20%20%20%20%20%20%20%20%20%20%20%20%20%20%20popup_a784bff1d53845d08fb01626258521c8.setContent%28html_91dfc572ded04a038a5f61ced4b37125%29%3B%0A%20%20%20%20%20%20%20%20%20%20%20%20%0A%0A%20%20%20%20%20%20%20%20%20%20%20%20circle_marker_d84f47a25054474c8941abb7461957e8.bindPopup%28popup_a784bff1d53845d08fb01626258521c8%29%3B%0A%0A%20%20%20%20%20%20%20%20%20%20%20%20%0A%20%20%20%20%20%20%20%20%0A%20%20%20%20%0A%20%20%20%20%20%20%20%20%20%20%20%20var%20circle_marker_0ce3b27fe0b54000b91ab6369f612e78%20%3D%20L.circleMarker%28%0A%20%20%20%20%20%20%20%20%20%20%20%20%20%20%20%20%5B43.745866073988985%2C-79.34603533317939%5D%2C%0A%20%20%20%20%20%20%20%20%20%20%20%20%20%20%20%20%7B%0A%20%20%22bubblingMouseEvents%22%3A%20true%2C%0A%20%20%22color%22%3A%20%22blue%22%2C%0A%20%20%22dashArray%22%3A%20null%2C%0A%20%20%22dashOffset%22%3A%20null%2C%0A%20%20%22fill%22%3A%20true%2C%0A%20%20%22fillColor%22%3A%20%22blue%22%2C%0A%20%20%22fillOpacity%22%3A%200.6%2C%0A%20%20%22fillRule%22%3A%20%22evenodd%22%2C%0A%20%20%22lineCap%22%3A%20%22round%22%2C%0A%20%20%22lineJoin%22%3A%20%22round%22%2C%0A%20%20%22opacity%22%3A%201.0%2C%0A%20%20%22radius%22%3A%205%2C%0A%20%20%22stroke%22%3A%20true%2C%0A%20%20%22weight%22%3A%203%0A%7D%0A%20%20%20%20%20%20%20%20%20%20%20%20%20%20%20%20%29.addTo%28map_4064621eade14997985a4e3814818433%29%3B%0A%20%20%20%20%20%20%20%20%20%20%20%20%0A%20%20%20%20%0A%20%20%20%20%20%20%20%20%20%20%20%20var%20popup_fccdb5dbdc144df4bf053532585aff85%20%3D%20L.popup%28%7BmaxWidth%3A%20%27300%27%7D%29%3B%0A%0A%20%20%20%20%20%20%20%20%20%20%20%20%0A%20%20%20%20%20%20%20%20%20%20%20%20%20%20%20%20var%20html_7b39d7b43f13439e88cd15eadfa68ed1%20%3D%20%24%28%27%3Cdiv%20id%3D%22html_7b39d7b43f13439e88cd15eadfa68ed1%22%20style%3D%22width%3A%20100.0%25%3B%20height%3A%20100.0%25%3B%22%3ECaribbean%20Restaurant%3C/div%3E%27%29%5B0%5D%3B%0A%20%20%20%20%20%20%20%20%20%20%20%20%20%20%20%20popup_fccdb5dbdc144df4bf053532585aff85.setContent%28html_7b39d7b43f13439e88cd15eadfa68ed1%29%3B%0A%20%20%20%20%20%20%20%20%20%20%20%20%0A%0A%20%20%20%20%20%20%20%20%20%20%20%20circle_marker_0ce3b27fe0b54000b91ab6369f612e78.bindPopup%28popup_fccdb5dbdc144df4bf053532585aff85%29%3B%0A%0A%20%20%20%20%20%20%20%20%20%20%20%20%0A%20%20%20%20%20%20%20%20%0A%20%20%20%20%0A%20%20%20%20%20%20%20%20%20%20%20%20var%20circle_marker_ceb33895c4484da1969a74a9452a8957%20%3D%20L.circleMarker%28%0A%20%20%20%20%20%20%20%20%20%20%20%20%20%20%20%20%5B43.74445646349851%2C-79.34645978471785%5D%2C%0A%20%20%20%20%20%20%20%20%20%20%20%20%20%20%20%20%7B%0A%20%20%22bubblingMouseEvents%22%3A%20true%2C%0A%20%20%22color%22%3A%20%22blue%22%2C%0A%20%20%22dashArray%22%3A%20null%2C%0A%20%20%22dashOffset%22%3A%20null%2C%0A%20%20%22fill%22%3A%20true%2C%0A%20%20%22fillColor%22%3A%20%22blue%22%2C%0A%20%20%22fillOpacity%22%3A%200.6%2C%0A%20%20%22fillRule%22%3A%20%22evenodd%22%2C%0A%20%20%22lineCap%22%3A%20%22round%22%2C%0A%20%20%22lineJoin%22%3A%20%22round%22%2C%0A%20%20%22opacity%22%3A%201.0%2C%0A%20%20%22radius%22%3A%205%2C%0A%20%20%22stroke%22%3A%20true%2C%0A%20%20%22weight%22%3A%203%0A%7D%0A%20%20%20%20%20%20%20%20%20%20%20%20%20%20%20%20%29.addTo%28map_4064621eade14997985a4e3814818433%29%3B%0A%20%20%20%20%20%20%20%20%20%20%20%20%0A%20%20%20%20%0A%20%20%20%20%20%20%20%20%20%20%20%20var%20popup_6117f0c564574adbb7fec078cb18045a%20%3D%20L.popup%28%7BmaxWidth%3A%20%27300%27%7D%29%3B%0A%0A%20%20%20%20%20%20%20%20%20%20%20%20%0A%20%20%20%20%20%20%20%20%20%20%20%20%20%20%20%20var%20html_769e2e1f86e24a75906bc9e2c9c24a21%20%3D%20%24%28%27%3Cdiv%20id%3D%22html_769e2e1f86e24a75906bc9e2c9c24a21%22%20style%3D%22width%3A%20100.0%25%3B%20height%3A%20100.0%25%3B%22%3ECaf%C3%A9%3C/div%3E%27%29%5B0%5D%3B%0A%20%20%20%20%20%20%20%20%20%20%20%20%20%20%20%20popup_6117f0c564574adbb7fec078cb18045a.setContent%28html_769e2e1f86e24a75906bc9e2c9c24a21%29%3B%0A%20%20%20%20%20%20%20%20%20%20%20%20%0A%0A%20%20%20%20%20%20%20%20%20%20%20%20circle_marker_ceb33895c4484da1969a74a9452a8957.bindPopup%28popup_6117f0c564574adbb7fec078cb18045a%29%3B%0A%0A%20%20%20%20%20%20%20%20%20%20%20%20%0A%20%20%20%20%20%20%20%20%0A%20%20%20%20%0A%20%20%20%20%20%20%20%20%20%20%20%20var%20circle_marker_180a4a7c7b774093b3f86e283df61630%20%3D%20L.circleMarker%28%0A%20%20%20%20%20%20%20%20%20%20%20%20%20%20%20%20%5B43.74766522888878%2C-79.34707696065234%5D%2C%0A%20%20%20%20%20%20%20%20%20%20%20%20%20%20%20%20%7B%0A%20%20%22bubblingMouseEvents%22%3A%20true%2C%0A%20%20%22color%22%3A%20%22blue%22%2C%0A%20%20%22dashArray%22%3A%20null%2C%0A%20%20%22dashOffset%22%3A%20null%2C%0A%20%20%22fill%22%3A%20true%2C%0A%20%20%22fillColor%22%3A%20%22blue%22%2C%0A%20%20%22fillOpacity%22%3A%200.6%2C%0A%20%20%22fillRule%22%3A%20%22evenodd%22%2C%0A%20%20%22lineCap%22%3A%20%22round%22%2C%0A%20%20%22lineJoin%22%3A%20%22round%22%2C%0A%20%20%22opacity%22%3A%201.0%2C%0A%20%20%22radius%22%3A%205%2C%0A%20%20%22stroke%22%3A%20true%2C%0A%20%20%22weight%22%3A%203%0A%7D%0A%20%20%20%20%20%20%20%20%20%20%20%20%20%20%20%20%29.addTo%28map_4064621eade14997985a4e3814818433%29%3B%0A%20%20%20%20%20%20%20%20%20%20%20%20%0A%20%20%20%20%0A%20%20%20%20%20%20%20%20%20%20%20%20var%20popup_132d903335f54369a60b594021ad1c75%20%3D%20L.popup%28%7BmaxWidth%3A%20%27300%27%7D%29%3B%0A%0A%20%20%20%20%20%20%20%20%20%20%20%20%0A%20%20%20%20%20%20%20%20%20%20%20%20%20%20%20%20var%20html_e6a7bc5327624d81b1e704fa67f9bd63%20%3D%20%24%28%27%3Cdiv%20id%3D%22html_e6a7bc5327624d81b1e704fa67f9bd63%22%20style%3D%22width%3A%20100.0%25%3B%20height%3A%20100.0%25%3B%22%3EGym%3C/div%3E%27%29%5B0%5D%3B%0A%20%20%20%20%20%20%20%20%20%20%20%20%20%20%20%20popup_132d903335f54369a60b594021ad1c75.setContent%28html_e6a7bc5327624d81b1e704fa67f9bd63%29%3B%0A%20%20%20%20%20%20%20%20%20%20%20%20%0A%0A%20%20%20%20%20%20%20%20%20%20%20%20circle_marker_180a4a7c7b774093b3f86e283df61630.bindPopup%28popup_132d903335f54369a60b594021ad1c75%29%3B%0A%0A%20%20%20%20%20%20%20%20%20%20%20%20%0A%20%20%20%20%20%20%20%20%0A%20%20%20%20%0A%20%20%20%20%20%20%20%20%20%20%20%20var%20circle_marker_eebab2c5f8c6492ea9bd2041f2dfa31a%20%3D%20L.circleMarker%28%0A%20%20%20%20%20%20%20%20%20%20%20%20%20%20%20%20%5B43.74573681959921%2C-79.34599119916211%5D%2C%0A%20%20%20%20%20%20%20%20%20%20%20%20%20%20%20%20%7B%0A%20%20%22bubblingMouseEvents%22%3A%20true%2C%0A%20%20%22color%22%3A%20%22blue%22%2C%0A%20%20%22dashArray%22%3A%20null%2C%0A%20%20%22dashOffset%22%3A%20null%2C%0A%20%20%22fill%22%3A%20true%2C%0A%20%20%22fillColor%22%3A%20%22blue%22%2C%0A%20%20%22fillOpacity%22%3A%200.6%2C%0A%20%20%22fillRule%22%3A%20%22evenodd%22%2C%0A%20%20%22lineCap%22%3A%20%22round%22%2C%0A%20%20%22lineJoin%22%3A%20%22round%22%2C%0A%20%20%22opacity%22%3A%201.0%2C%0A%20%20%22radius%22%3A%205%2C%0A%20%20%22stroke%22%3A%20true%2C%0A%20%20%22weight%22%3A%203%0A%7D%0A%20%20%20%20%20%20%20%20%20%20%20%20%20%20%20%20%29.addTo%28map_4064621eade14997985a4e3814818433%29%3B%0A%20%20%20%20%20%20%20%20%20%20%20%20%0A%20%20%20%20%0A%20%20%20%20%20%20%20%20%20%20%20%20var%20popup_167611b6391f492fb911babef59bce63%20%3D%20L.popup%28%7BmaxWidth%3A%20%27300%27%7D%29%3B%0A%0A%20%20%20%20%20%20%20%20%20%20%20%20%0A%20%20%20%20%20%20%20%20%20%20%20%20%20%20%20%20var%20html_66b2cb6d7e4247f2869c4108d6f73331%20%3D%20%24%28%27%3Cdiv%20id%3D%22html_66b2cb6d7e4247f2869c4108d6f73331%22%20style%3D%22width%3A%20100.0%25%3B%20height%3A%20100.0%25%3B%22%3EJapanese%20Restaurant%3C/div%3E%27%29%5B0%5D%3B%0A%20%20%20%20%20%20%20%20%20%20%20%20%20%20%20%20popup_167611b6391f492fb911babef59bce63.setContent%28html_66b2cb6d7e4247f2869c4108d6f73331%29%3B%0A%20%20%20%20%20%20%20%20%20%20%20%20%0A%0A%20%20%20%20%20%20%20%20%20%20%20%20circle_marker_eebab2c5f8c6492ea9bd2041f2dfa31a.bindPopup%28popup_167611b6391f492fb911babef59bce63%29%3B%0A%0A%20%20%20%20%20%20%20%20%20%20%20%20%0A%20%20%20%20%20%20%20%20%0A%20%20%20%20%0A%20%20%20%20%20%20%20%20%20%20%20%20var%20circle_marker_34212e8f2868412b9f2c1be381f0c403%20%3D%20L.circleMarker%28%0A%20%20%20%20%20%20%20%20%20%20%20%20%20%20%20%20%5B43.74537356928136%2C-79.35124509707558%5D%2C%0A%20%20%20%20%20%20%20%20%20%20%20%20%20%20%20%20%7B%0A%20%20%22bubblingMouseEvents%22%3A%20true%2C%0A%20%20%22color%22%3A%20%22blue%22%2C%0A%20%20%22dashArray%22%3A%20null%2C%0A%20%20%22dashOffset%22%3A%20null%2C%0A%20%20%22fill%22%3A%20true%2C%0A%20%20%22fillColor%22%3A%20%22blue%22%2C%0A%20%20%22fillOpacity%22%3A%200.6%2C%0A%20%20%22fillRule%22%3A%20%22evenodd%22%2C%0A%20%20%22lineCap%22%3A%20%22round%22%2C%0A%20%20%22lineJoin%22%3A%20%22round%22%2C%0A%20%20%22opacity%22%3A%201.0%2C%0A%20%20%22radius%22%3A%205%2C%0A%20%20%22stroke%22%3A%20true%2C%0A%20%20%22weight%22%3A%203%0A%7D%0A%20%20%20%20%20%20%20%20%20%20%20%20%20%20%20%20%29.addTo%28map_4064621eade14997985a4e3814818433%29%3B%0A%20%20%20%20%20%20%20%20%20%20%20%20%0A%20%20%20%20%0A%20%20%20%20%20%20%20%20%20%20%20%20var%20popup_66e2524bae484405a69569cc3f6480d9%20%3D%20L.popup%28%7BmaxWidth%3A%20%27300%27%7D%29%3B%0A%0A%20%20%20%20%20%20%20%20%20%20%20%20%0A%20%20%20%20%20%20%20%20%20%20%20%20%20%20%20%20var%20html_4b3442c999e846e8a57e10e626c72888%20%3D%20%24%28%27%3Cdiv%20id%3D%22html_4b3442c999e846e8a57e10e626c72888%22%20style%3D%22width%3A%20100.0%25%3B%20height%3A%20100.0%25%3B%22%3EBaseball%20Field%3C/div%3E%27%29%5B0%5D%3B%0A%20%20%20%20%20%20%20%20%20%20%20%20%20%20%20%20popup_66e2524bae484405a69569cc3f6480d9.setContent%28html_4b3442c999e846e8a57e10e626c72888%29%3B%0A%20%20%20%20%20%20%20%20%20%20%20%20%0A%0A%20%20%20%20%20%20%20%20%20%20%20%20circle_marker_34212e8f2868412b9f2c1be381f0c403.bindPopup%28popup_66e2524bae484405a69569cc3f6480d9%29%3B%0A%0A%20%20%20%20%20%20%20%20%20%20%20%20%0A%20%20%20%20%20%20%20%20%0A%20%20%20%20%0A%20%20%20%20%20%20%20%20%20%20%20%20var%20circle_marker_6f13a9249ffd4a998fd9e6e067485bcb%20%3D%20L.circleMarker%28%0A%20%20%20%20%20%20%20%20%20%20%20%20%20%20%20%20%5B43.748789728%2C-79.35422793%5D%2C%0A%20%20%20%20%20%20%20%20%20%20%20%20%20%20%20%20%7B%0A%20%20%22bubblingMouseEvents%22%3A%20true%2C%0A%20%20%22color%22%3A%20%22blue%22%2C%0A%20%20%22dashArray%22%3A%20null%2C%0A%20%20%22dashOffset%22%3A%20null%2C%0A%20%20%22fill%22%3A%20true%2C%0A%20%20%22fillColor%22%3A%20%22blue%22%2C%0A%20%20%22fillOpacity%22%3A%200.6%2C%0A%20%20%22fillRule%22%3A%20%22evenodd%22%2C%0A%20%20%22lineCap%22%3A%20%22round%22%2C%0A%20%20%22lineJoin%22%3A%20%22round%22%2C%0A%20%20%22opacity%22%3A%201.0%2C%0A%20%20%22radius%22%3A%205%2C%0A%20%20%22stroke%22%3A%20true%2C%0A%20%20%22weight%22%3A%203%0A%7D%0A%20%20%20%20%20%20%20%20%20%20%20%20%20%20%20%20%29.addTo%28map_4064621eade14997985a4e3814818433%29%3B%0A%20%20%20%20%20%20%20%20%20%20%20%20%0A%20%20%20%20%0A%20%20%20%20%20%20%20%20%20%20%20%20var%20popup_bc7dbf12da1a4f95895d9538bc834e19%20%3D%20L.popup%28%7BmaxWidth%3A%20%27300%27%7D%29%3B%0A%0A%20%20%20%20%20%20%20%20%20%20%20%20%0A%20%20%20%20%20%20%20%20%20%20%20%20%20%20%20%20var%20html_fafcc1dccc2b4be8ac4c64bc5143766e%20%3D%20%24%28%27%3Cdiv%20id%3D%22html_fafcc1dccc2b4be8ac4c64bc5143766e%22%20style%3D%22width%3A%20100.0%25%3B%20height%3A%20100.0%25%3B%22%3EAthletics%20%26%20Sports%3C/div%3E%27%29%5B0%5D%3B%0A%20%20%20%20%20%20%20%20%20%20%20%20%20%20%20%20popup_bc7dbf12da1a4f95895d9538bc834e19.setContent%28html_fafcc1dccc2b4be8ac4c64bc5143766e%29%3B%0A%20%20%20%20%20%20%20%20%20%20%20%20%0A%0A%20%20%20%20%20%20%20%20%20%20%20%20circle_marker_6f13a9249ffd4a998fd9e6e067485bcb.bindPopup%28popup_bc7dbf12da1a4f95895d9538bc834e19%29%3B%0A%0A%20%20%20%20%20%20%20%20%20%20%20%20%0A%20%20%20%20%20%20%20%20%0A%20%20%20%20%0A%20%20%20%20%20%20%20%20%20%20%20%20var%20circle_marker_7fbd7bdb6eec45dab005d6993cc45222%20%3D%20L.circleMarker%28%0A%20%20%20%20%20%20%20%20%20%20%20%20%20%20%20%20%5B43.748159%2C-79.348235%5D%2C%0A%20%20%20%20%20%20%20%20%20%20%20%20%20%20%20%20%7B%0A%20%20%22bubblingMouseEvents%22%3A%20true%2C%0A%20%20%22color%22%3A%20%22blue%22%2C%0A%20%20%22dashArray%22%3A%20null%2C%0A%20%20%22dashOffset%22%3A%20null%2C%0A%20%20%22fill%22%3A%20true%2C%0A%20%20%22fillColor%22%3A%20%22blue%22%2C%0A%20%20%22fillOpacity%22%3A%200.6%2C%0A%20%20%22fillRule%22%3A%20%22evenodd%22%2C%0A%20%20%22lineCap%22%3A%20%22round%22%2C%0A%20%20%22lineJoin%22%3A%20%22round%22%2C%0A%20%20%22opacity%22%3A%201.0%2C%0A%20%20%22radius%22%3A%205%2C%0A%20%20%22stroke%22%3A%20true%2C%0A%20%20%22weight%22%3A%203%0A%7D%0A%20%20%20%20%20%20%20%20%20%20%20%20%20%20%20%20%29.addTo%28map_4064621eade14997985a4e3814818433%29%3B%0A%20%20%20%20%20%20%20%20%20%20%20%20%0A%20%20%20%20%0A%20%20%20%20%20%20%20%20%20%20%20%20var%20popup_7dadf9514c714e40a504ddf8636ac129%20%3D%20L.popup%28%7BmaxWidth%3A%20%27300%27%7D%29%3B%0A%0A%20%20%20%20%20%20%20%20%20%20%20%20%0A%20%20%20%20%20%20%20%20%20%20%20%20%20%20%20%20var%20html_f270f5fa72784d56bc9279b130dc59d1%20%3D%20%24%28%27%3Cdiv%20id%3D%22html_f270f5fa72784d56bc9279b130dc59d1%22%20style%3D%22width%3A%20100.0%25%3B%20height%3A%20100.0%25%3B%22%3EDessert%20Shop%3C/div%3E%27%29%5B0%5D%3B%0A%20%20%20%20%20%20%20%20%20%20%20%20%20%20%20%20popup_7dadf9514c714e40a504ddf8636ac129.setContent%28html_f270f5fa72784d56bc9279b130dc59d1%29%3B%0A%20%20%20%20%20%20%20%20%20%20%20%20%0A%0A%20%20%20%20%20%20%20%20%20%20%20%20circle_marker_7fbd7bdb6eec45dab005d6993cc45222.bindPopup%28popup_7dadf9514c714e40a504ddf8636ac129%29%3B%0A%0A%20%20%20%20%20%20%20%20%20%20%20%20%0A%20%20%20%20%20%20%20%20%0A%3C/script%3E onload=\"this.contentDocument.open();this.contentDocument.write(    decodeURIComponent(this.getAttribute('data-html')));this.contentDocument.close();\" allowfullscreen webkitallowfullscreen mozallowfullscreen></iframe></div></div>"
     },
     "metadata": {},
     "execution_count": 159
    }
   ],
   "source": [
    "latitude  = float(location['Latitude'])\n",
    "longitude = float(location['Longitude'])\n",
    "\n",
    "# from DS0701EN-2-2-1 notebook\n",
    "venues_map = folium.Map(location=[latitude, longitude], zoom_start=15) # generate map centred around Ecco\n",
    "\n",
    "# add Ecco as a red circle mark\n",
    "folium.CircleMarker(\n",
    "    [latitude, longitude],\n",
    "    radius=10,\n",
    "    popup='Ecco',\n",
    "    fill=True,\n",
    "    color='red',\n",
    "    fill_color='red',\n",
    "    fill_opacity=0.6\n",
    "    ).add_to(venues_map)\n",
    "\n",
    "\n",
    "# add popular spots to the map as blue circle markers\n",
    "for lat, lng, label in zip(dataframe_filtered.lat, dataframe_filtered.lng, dataframe_filtered.categories):\n",
    "    folium.CircleMarker(\n",
    "        [lat, lng],\n",
    "        radius=5,\n",
    "        popup=label,\n",
    "        fill=True,\n",
    "        color='blue',\n",
    "        fill_color='blue',\n",
    "        fill_opacity=0.6\n",
    "        ).add_to(venues_map)\n",
    "\n",
    "# display map\n",
    "venues_map"
   ]
  },
  {
   "cell_type": "code",
   "execution_count": null,
   "metadata": {},
   "outputs": [],
   "source": []
  }
 ]
}